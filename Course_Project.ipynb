{
  "nbformat": 4,
  "nbformat_minor": 0,
  "metadata": {
    "colab": {
      "provenance": [],
      "authorship_tag": "ABX9TyNqbTLtJa83cDDFEwi4EsZ9",
      "include_colab_link": true
    },
    "kernelspec": {
      "name": "python3",
      "display_name": "Python 3"
    }
  },
  "cells": [
    {
      "cell_type": "markdown",
      "metadata": {
        "id": "view-in-github",
        "colab_type": "text"
      },
      "source": [
        "<a href=\"https://colab.research.google.com/github/shihanxie/Econ475/blob/main/Course_Project.ipynb\" target=\"_parent\"><img src=\"https://colab.research.google.com/assets/colab-badge.svg\" alt=\"Open In Colab\"/></a>"
      ]
    },
    {
      "cell_type": "markdown",
      "metadata": {
        "id": "XPA5PkKn5dfU"
      },
      "source": [
        "#Project\n",
        "Instructions:\n",
        "- Please read the project description before your start.\n",
        "- To download a copy of your ipython notebook: click ```File -> Download .ipyhon```\n",
        "- Write your code in the code cells below each Step description. Write your answer to questions in a text cell. You may add extra cells if needed."
      ]
    },
    {
      "cell_type": "code",
      "metadata": {
        "id": "UrJSxZTP6KGL"
      },
      "source": [
        "import numpy as np\n",
        "import pandas as pd\n",
        "import datetime\n",
        "import matplotlib.pyplot as plt\n",
        "import statsmodels\n",
        "import statsmodels.api as sm\n",
        "from statsmodels.tsa.arima.model import ARIMA"
      ],
      "execution_count": null,
      "outputs": []
    },
    {
      "cell_type": "markdown",
      "metadata": {
        "id": "8Zot218kHuIE"
      },
      "source": [
        "## Question 1: model and forecat electricity consumption data\n",
        "Step 1: import data from Github\n",
        "- Check to see that DataFrame elec has two columns ```date``` and ```elec```\n",
        "- The variable ```elec``` is electricity retail sales to the residential sector in the US in million kilowatt hours.\n",
        "- The sample is monthly and covers the period from 1973M1 to 2011M12 but use the sample up to **2010M12** (do not include observations from 2011)"
      ]
    },
    {
      "cell_type": "code",
      "metadata": {
        "id": "gN3o8Kww6Tms"
      },
      "source": [
        "elec = pd.read_csv('https://raw.githubusercontent.com/shihanxie/Econ475/main/data/elec.csv')\n",
        "elec.index = pd.date_range(start='1973-01-01', periods= elec.shape[0], freq='M')\n",
        "\n",
        "# Define start and end date of sample\n",
        "start = '1973-01-01'\n",
        "end = '2011-01-01'"
      ],
      "execution_count": null,
      "outputs": []
    },
    {
      "cell_type": "markdown",
      "metadata": {
        "id": "mhgOO538IZsV"
      },
      "source": [
        "Step 2: determine whether it is better to take the log of electricity consumption or not. Plot the level or the log of electricity consumption depending on your choice. Properly label the x- and y- axis in your plot"
      ]
    },
    {
      "cell_type": "code",
      "metadata": {
        "id": "tcGcUolS6QtP"
      },
      "source": [],
      "execution_count": null,
      "outputs": []
    },
    {
      "cell_type": "markdown",
      "metadata": {
        "id": "Wv1UqvHgIi1I"
      },
      "source": [
        "Step 3: Estimate a model with a linear trend and a model with a quadratic trend. Which one would you choose?"
      ]
    },
    {
      "cell_type": "code",
      "metadata": {
        "id": "3RCoXVJDJadC"
      },
      "source": [],
      "execution_count": null,
      "outputs": []
    },
    {
      "cell_type": "markdown",
      "metadata": {
        "id": "ZRaxloSdJawL"
      },
      "source": [
        "Step 4: Depending on your choice of the model from Step 3, provide the plot and correlogram (up to 12 lags) of the residuals of the model you chose in Step 3.  Is there any seasonal pattern?"
      ]
    },
    {
      "cell_type": "code",
      "metadata": {
        "id": "mJw1-g-DJvwp"
      },
      "source": [],
      "execution_count": null,
      "outputs": []
    },
    {
      "cell_type": "markdown",
      "metadata": {
        "id": "8EW6B79mJwMQ"
      },
      "source": [
        "Step 5: Estimate a model with a trend and a full set of dummy variables (for 12 months) and report the result."
      ]
    },
    {
      "cell_type": "code",
      "metadata": {
        "id": "ai95YVmrJ7_A"
      },
      "source": [],
      "execution_count": null,
      "outputs": []
    },
    {
      "cell_type": "markdown",
      "metadata": {
        "id": "e3K_WT4PJ8nE"
      },
      "source": [
        "Step 6: Provide  the  plot  and  correlogram  (up  to  12  lags)  of  the  residuals  of  the  model  you estimated in Step 5. Is there any cycles or serial correlation in the residuals?"
      ]
    },
    {
      "cell_type": "code",
      "metadata": {
        "id": "eME4zYcFKQYH"
      },
      "source": [],
      "execution_count": null,
      "outputs": []
    },
    {
      "cell_type": "markdown",
      "metadata": {
        "id": "vY8tgX7kKQzK"
      },
      "source": [
        "Step 7: Estimate an ARMA(p,q) model with $p= 0,1,2,3$ and $q= 0,1,2,3$ except $p=q=0$ and report SICs. Which lag orders would you choose?"
      ]
    },
    {
      "cell_type": "code",
      "metadata": {
        "id": "0NneMtJ9KjUv"
      },
      "source": [],
      "execution_count": null,
      "outputs": []
    },
    {
      "cell_type": "markdown",
      "metadata": {
        "id": "GXNGRtYoKjpT"
      },
      "source": [
        "Step 8: Provide the plot and correlogram (up to 12 lags) of the residuals of the model you chose in Step 7.  Is there any evidence of cycles in the residuals?"
      ]
    },
    {
      "cell_type": "code",
      "metadata": {
        "id": "GbhLJmFIKsDU"
      },
      "source": [],
      "execution_count": null,
      "outputs": []
    },
    {
      "cell_type": "markdown",
      "metadata": {
        "id": "_pRD6faYKrgX"
      },
      "source": [
        "Step 9: Use  the  model  you  chose  in  Step 7,  forecast  the level  of  electricity  retail  sales  for year 2011 and compute its 95% interval forecasts as well. Plot your point and interval forecasts together with actual data for the period from 2008 to 2011."
      ]
    },
    {
      "cell_type": "code",
      "metadata": {
        "id": "ggSKWnUZLb2c"
      },
      "source": [],
      "execution_count": null,
      "outputs": []
    },
    {
      "cell_type": "markdown",
      "metadata": {
        "id": "bkkMOmHRLbIa"
      },
      "source": [
        "#Question 2: model and forecat industrial production data\n",
        "Step 1: import data from Github\n",
        "\n",
        "- Check to see that DataFrame ```industrial``` has two columns ```date``` and ```lip```\n",
        "- The variable ```lip``` is the log of the seasonally adjusted industrial production index of the US ($ip=100$ in 2007).\n",
        "- The sample is monthly and covers the period from 1980M1 to 2014M12 but use the sample up to 2013M12 (do not include observations in 2014)."
      ]
    },
    {
      "cell_type": "code",
      "metadata": {
        "id": "h9on5BV5F4EA"
      },
      "source": [
        "industrial = pd.read_csv('https://raw.githubusercontent.com/shihanxie/Econ475/main/data/industrial.csv')\n",
        "industrial.index = pd.date_range(start='1980-01-01', periods= industrial.shape[0], freq='M')\n",
        "\n",
        "# Define start and end date of sample\n",
        "start = '1980-01-01'\n",
        "end = '2014-01-01'"
      ],
      "execution_count": null,
      "outputs": []
    },
    {
      "cell_type": "markdown",
      "metadata": {
        "id": "LIiUipdOMYfH"
      },
      "source": [
        "Step 2: Estimate a model with the intercept and a linear time trend and report the estimation result"
      ]
    },
    {
      "cell_type": "code",
      "metadata": {
        "id": "-t9Wu5mrMhlo"
      },
      "source": [],
      "execution_count": null,
      "outputs": []
    },
    {
      "cell_type": "markdown",
      "metadata": {
        "id": "MTxp3IF-MiBA"
      },
      "source": [
        "Step 3: Compute the correlogram of the residuals in Step 2 up to 12 lags and describe any interesting characteristics. Would an AR model or an MA model fit the data better?"
      ]
    },
    {
      "cell_type": "code",
      "metadata": {
        "id": "VJp8Rg1eMvqj"
      },
      "source": [],
      "execution_count": null,
      "outputs": []
    },
    {
      "cell_type": "markdown",
      "metadata": {
        "id": "eJaCPt6_MwGY"
      },
      "source": [
        "Step 4: Estimate an AR model, including the intercept and a linear time trend, with 1, 2, ..., 6 lags and report SICs of all these models."
      ]
    },
    {
      "cell_type": "code",
      "metadata": {
        "id": "poMvIlNcM8i6"
      },
      "source": [],
      "execution_count": null,
      "outputs": []
    },
    {
      "cell_type": "markdown",
      "metadata": {
        "id": "oXcxdiefNQSD"
      },
      "source": [
        "Step 5: Choose the lag length for an AR model based on SIC and report the estimation result of the AR model with the chosen lag length.  Check out the ```Durbin-Watson``` statistic.  What doesthe DW statistic suggest?"
      ]
    },
    {
      "cell_type": "code",
      "metadata": {
        "id": "5iC8NEUNORmA"
      },
      "source": [],
      "execution_count": null,
      "outputs": []
    },
    {
      "cell_type": "markdown",
      "metadata": {
        "id": "L2dIhbVCOSLr"
      },
      "source": [
        "Step 6: Now use the model chosen in Step 5. Consider the correlogram of the residuals up to 12 lags. Is there any evidence of serial correlation in the residuals?"
      ]
    },
    {
      "cell_type": "code",
      "metadata": {
        "id": "7Lk8gXD-OiDP"
      },
      "source": [],
      "execution_count": null,
      "outputs": []
    },
    {
      "cell_type": "markdown",
      "metadata": {
        "id": "7_gXQaHQOieh"
      },
      "source": [
        "Step 7: Use the model chosen in Step 5. Do the ```Breusch-Godfrey``` test (serial correlation LM test) on the residuals with 6 lags included.  Do you reject the null hypothesis at the 5% significance level?"
      ]
    },
    {
      "cell_type": "code",
      "metadata": {
        "id": "bB-H5H_qOrY2"
      },
      "source": [],
      "execution_count": null,
      "outputs": []
    },
    {
      "cell_type": "markdown",
      "metadata": {
        "id": "SoeZgS8ZOsNz"
      },
      "source": [
        "Step 8: The Great Recession made industrial production drop substantially in 2008 and 2009. Do you think the model chosen in Step 5 became invalid to describe the dynamics ofthe industrial production after the Great Recession?  Try to provide some evidence for your conclusion using appropriate statistics."
      ]
    },
    {
      "cell_type": "code",
      "metadata": {
        "id": "BOQqVL8uO0SW"
      },
      "source": [],
      "execution_count": null,
      "outputs": []
    },
    {
      "cell_type": "markdown",
      "metadata": {
        "id": "wuI_rV58O01Y"
      },
      "source": [
        "Step 9: Forecast the **level** of the industrial production for year 2014 and compute its 95% interval forecasts as well. Plot your point and interval forecasts together with actual data forthe period from 2010 to 2014.\n",
        "\n"
      ]
    },
    {
      "cell_type": "code",
      "metadata": {
        "id": "D3IDeUuJO8z8"
      },
      "source": [],
      "execution_count": null,
      "outputs": []
    },
    {
      "cell_type": "markdown",
      "metadata": {
        "id": "tKiRMwy5FB1j"
      },
      "source": [
        "## Question 3: Modeling volatility using US Dollar / Australian Dollar exchange rate data\n",
        "Step 1: import data from Github\n",
        "- Check to see that DataFrame usdaud a column ```USDAUD```, which is the USD/AUD exchange rate\n",
        "- The sample is daily and covers the period from Jan 2, 2001 to Oct 14, 2004"
      ]
    },
    {
      "cell_type": "code",
      "metadata": {
        "id": "_A34OWSyDK2m"
      },
      "source": [
        "from statsmodels.graphics.tsaplots import plot_acf, plot_pacf\n",
        "from scipy import stats\n",
        "\n",
        "!pip install arch\n",
        "from arch import arch_model"
      ],
      "execution_count": null,
      "outputs": []
    },
    {
      "cell_type": "code",
      "metadata": {
        "id": "318mTjDnEy--"
      },
      "source": [
        "usdaud = pd.read_csv('https://raw.githubusercontent.com/shihanxie/Econ475/main/data/usdaud.csv')\n",
        "usdaud.index = pd.date_range(start='2001-01-02', periods= usdaud.shape[0], freq='D')"
      ],
      "execution_count": null,
      "outputs": []
    },
    {
      "cell_type": "markdown",
      "metadata": {
        "id": "kCS1NN0aRIJG"
      },
      "source": [
        "Step 2: Compute and plot the first difference of the log(exchange rate), or $\\Delta \\log(usdaud_t) \\times 100$. From now on, we will use $y_t$ to refer $\\Delta \\log(usdaud_t) \\times 100$, which is the daily percentage change in USD/AUD exchange rate.\n",
        "\n",
        "Hint: use ```np.log(var).diff()``` to compute the first difference of the log of ```var```."
      ]
    },
    {
      "cell_type": "code",
      "metadata": {
        "id": "iNUfA0-e_DjR"
      },
      "source": [],
      "execution_count": null,
      "outputs": []
    },
    {
      "cell_type": "markdown",
      "metadata": {
        "id": "5MnNAfD0SBq5"
      },
      "source": [
        "Step 3: Plot the histogram and compute the descriptive statistics of $y_t$. Conduct the proper test to see if it is normally distributed."
      ]
    },
    {
      "cell_type": "code",
      "metadata": {
        "id": "AOCGb46w_DIi"
      },
      "source": [],
      "execution_count": null,
      "outputs": []
    },
    {
      "cell_type": "markdown",
      "metadata": {
        "id": "P1_4SVnhZt6f"
      },
      "source": [
        "Step 4: Compare the historgram of $y_t$ to a normal distribution."
      ]
    },
    {
      "cell_type": "code",
      "metadata": {
        "id": "mzoJLWIZ_CxK"
      },
      "source": [],
      "execution_count": null,
      "outputs": []
    },
    {
      "cell_type": "markdown",
      "metadata": {
        "id": "tq0ccBZvZ8T5"
      },
      "source": [
        "Step 5: Compute the correlogram of squared $y_t$ up to 12 lags."
      ]
    },
    {
      "cell_type": "code",
      "metadata": {
        "id": "QS_XO2rj_CV6"
      },
      "source": [],
      "execution_count": null,
      "outputs": []
    },
    {
      "cell_type": "markdown",
      "metadata": {
        "id": "4N7TETAvaZGB"
      },
      "source": [
        "Step 6: Estimate an AR(1) model for squared $y_t$"
      ]
    },
    {
      "cell_type": "code",
      "metadata": {
        "id": "TRg6Pm_3_B3f"
      },
      "source": [],
      "execution_count": null,
      "outputs": []
    },
    {
      "cell_type": "markdown",
      "metadata": {
        "id": "HjTI8W-Ca5qt"
      },
      "source": [
        "Step 7: Estimate an ARCH(1) model and a GARCH(1,1) model for\n",
        "$$\n",
        "\\begin{aligned}\n",
        "&y_t =\\mu+\\varepsilon_{t} \\\\\n",
        "&\\varepsilon_{t} \\mid \\Omega_{t-1} \\sim N\\left(0, \\sigma_{t}^{2}\\right)\n",
        "\\end{aligned}\n",
        "$$"
      ]
    },
    {
      "cell_type": "code",
      "metadata": {
        "id": "LSeTbdNA_A75"
      },
      "source": [],
      "execution_count": null,
      "outputs": []
    },
    {
      "cell_type": "markdown",
      "metadata": {
        "id": "NRt1241UsmT6"
      },
      "source": [
        "Step 8: Estimate an AR(1)-ARCH(1) model and an AR(1)-GARCH(1,1) model for\n",
        "$$\n",
        "\\begin{aligned}\n",
        "&y_t =\\mu+\\rho y_{t-1} + \\varepsilon_{t} \\\\\n",
        "&\\varepsilon_{t} \\mid \\Omega_{t-1} \\sim N\\left(0, \\sigma_{t}^{2}\\right)\n",
        "\\end{aligned}\n",
        "$$"
      ]
    },
    {
      "cell_type": "code",
      "metadata": {
        "id": "0gn0m7Uq_AEj"
      },
      "source": [],
      "execution_count": null,
      "outputs": []
    },
    {
      "cell_type": "markdown",
      "metadata": {
        "id": "KJ-J99m3s9nv"
      },
      "source": [
        "Step 9: Plot the estimated conditional variance of the best-fitting model among the ones considered"
      ]
    },
    {
      "cell_type": "code",
      "metadata": {
        "id": "DGddM8jK9_cs"
      },
      "source": [],
      "execution_count": null,
      "outputs": []
    }
  ]
}