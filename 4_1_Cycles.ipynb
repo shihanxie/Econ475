{
  "nbformat": 4,
  "nbformat_minor": 0,
  "metadata": {
    "colab": {
      "name": "4-1.Cycles.ipynb",
      "provenance": [],
      "collapsed_sections": [],
      "toc_visible": true,
      "authorship_tag": "ABX9TyPCyFS/sN10pL8vhw+ot/yT",
      "include_colab_link": true
    },
    "kernelspec": {
      "name": "python3",
      "display_name": "Python 3"
    }
  },
  "cells": [
    {
      "cell_type": "markdown",
      "metadata": {
        "id": "view-in-github",
        "colab_type": "text"
      },
      "source": [
        "<a href=\"https://colab.research.google.com/github/shihanxie/Econ475/blob/main/4_1_Cycles.ipynb\" target=\"_parent\"><img src=\"https://colab.research.google.com/assets/colab-badge.svg\" alt=\"Open In Colab\"/></a>"
      ]
    },
    {
      "cell_type": "code",
      "metadata": {
        "id": "PiUt5RnHIIpJ",
        "colab": {
          "base_uri": "https://localhost:8080/"
        },
        "outputId": "80ca72d7-316d-435b-b731-ee03f9a20106"
      },
      "source": [
        "# Make sure we use the most updated version of statsmodels in python\n",
        "!pip install statsmodels==0.12.0\n",
        "import statsmodels"
      ],
      "execution_count": null,
      "outputs": [
        {
          "output_type": "stream",
          "text": [
            "Collecting statsmodels==0.12.0\n",
            "\u001b[?25l  Downloading https://files.pythonhosted.org/packages/ff/68/ca52fc6a114141f13dfaee340fc355e2825753f1cbe3702a13a5046e16de/statsmodels-0.12.0-cp37-cp37m-manylinux1_x86_64.whl (9.5MB)\n",
            "\u001b[K     |████████████████████████████████| 9.5MB 6.0MB/s \n",
            "\u001b[?25hRequirement already satisfied: numpy>=1.15 in /usr/local/lib/python3.7/dist-packages (from statsmodels==0.12.0) (1.19.5)\n",
            "Requirement already satisfied: scipy>=1.1 in /usr/local/lib/python3.7/dist-packages (from statsmodels==0.12.0) (1.4.1)\n",
            "Requirement already satisfied: patsy>=0.5 in /usr/local/lib/python3.7/dist-packages (from statsmodels==0.12.0) (0.5.1)\n",
            "Requirement already satisfied: pandas>=0.21 in /usr/local/lib/python3.7/dist-packages (from statsmodels==0.12.0) (1.1.5)\n",
            "Requirement already satisfied: six in /usr/local/lib/python3.7/dist-packages (from patsy>=0.5->statsmodels==0.12.0) (1.15.0)\n",
            "Requirement already satisfied: pytz>=2017.2 in /usr/local/lib/python3.7/dist-packages (from pandas>=0.21->statsmodels==0.12.0) (2018.9)\n",
            "Requirement already satisfied: python-dateutil>=2.7.3 in /usr/local/lib/python3.7/dist-packages (from pandas>=0.21->statsmodels==0.12.0) (2.8.1)\n",
            "Installing collected packages: statsmodels\n",
            "  Found existing installation: statsmodels 0.10.2\n",
            "    Uninstalling statsmodels-0.10.2:\n",
            "      Successfully uninstalled statsmodels-0.10.2\n",
            "Successfully installed statsmodels-0.12.0\n"
          ],
          "name": "stdout"
        }
      ]
    },
    {
      "cell_type": "code",
      "metadata": {
        "id": "eAIx9Pnk1B7u"
      },
      "source": [
        "import numpy as np\n",
        "import pandas as pd\n",
        "import datetime\n",
        "import statsmodels.api as sm\n",
        "import statsmodels.tsa as smt\n",
        "import matplotlib.pyplot as plt\n",
        "\n",
        "from statsmodels.graphics.tsaplots import plot_acf, plot_pacf\n",
        "from statsmodels.tsa.arima.model import ARIMA"
      ],
      "execution_count": null,
      "outputs": []
    },
    {
      "cell_type": "markdown",
      "metadata": {
        "id": "DuH5jmJb0EZS"
      },
      "source": [
        "#Simulate ARMA process"
      ]
    },
    {
      "cell_type": "markdown",
      "metadata": {
        "id": "9H4wmdZGAuqv"
      },
      "source": [
        "## MA(1) process\n",
        "model 1: $y_t = \\epsilon_t + 0.4 \\epsilon_{t-1}$\n",
        "\n",
        "model 2: $y_t = \\epsilon_t + 0.95 \\epsilon_{t-1}$"
      ]
    },
    {
      "cell_type": "code",
      "metadata": {
        "id": "87U7qwFE0EA3"
      },
      "source": [
        "T = 200\n",
        "e = np.random.randn(T)\n",
        "ma = e[1:] + 0.4 * e[:-1]\n",
        "ma1 = e[1:] + 0.95 * e[:-1]\n",
        "\n",
        "plt.plot(ma, label = r'$\\theta$ = 0.4')\n",
        "plt.plot(ma1, label = r'$\\theta$ = 0.95')\n",
        "ax = plt.gca()\n",
        "ax.set_ylabel('Moving Average Process', fontsize = 'x-large')\n",
        "ax.legend(loc='upper left', fontsize = 'large')"
      ],
      "execution_count": null,
      "outputs": []
    },
    {
      "cell_type": "markdown",
      "metadata": {
        "id": "MwvlarI4B2ha"
      },
      "source": [
        "## AR(1) process\n",
        "model 1: $y_t = 0.4 y_{t-1} + \\epsilon_t$\n",
        "\n",
        "model 2: $y_t = 0.95 y_{t-1} + \\epsilon_t$"
      ]
    },
    {
      "cell_type": "code",
      "metadata": {
        "id": "Fx_dNet-0DeQ"
      },
      "source": [
        "T = 200\n",
        "e = np.random.randn(T)\n",
        "ar = np.zeros(200)\n",
        "ar[0] = e[0]\n",
        "for i in range(T-1):\n",
        "  ar[i+1] = 0.4*ar[i] + e[i+1]\n",
        "\n",
        "ar1 = np.zeros(200)\n",
        "ar1[0] = e[0]\n",
        "for i in range(T-1):\n",
        "  ar1[i+1] = 0.95*ar1[i] + e[i+1]\n",
        "\n",
        "plt.plot(ar, label = '$\\phi$ = 0.4')\n",
        "plt.plot(ar1, label = '$\\phi$ = 0.95')\n",
        "ax = plt.gca()\n",
        "ax.set_ylabel('Autoregressive Process', fontsize = 'x-large')\n",
        "ax.legend(loc='upper left', fontsize = 'large')"
      ],
      "execution_count": null,
      "outputs": []
    },
    {
      "cell_type": "markdown",
      "metadata": {
        "id": "4ucWnha9Asqy"
      },
      "source": [
        "## ARMA models\n",
        "Alternatively, we can use the built-in functions to simulate the models.\n",
        "\n",
        "Example model: $(1-1.1L + 0.2L^2)y_t = (1+0.3L)\\epsilon_t$"
      ]
    },
    {
      "cell_type": "code",
      "metadata": {
        "id": "fEKYV0FlAsBf"
      },
      "source": [
        "np.random.seed(1)\n",
        "model1 = smt.arima_process.ArmaProcess(ar = [1, -1.1, 0.2], ma = [1, 0.3])\n",
        "model1_data =  model1.generate_sample(200, scale = 1)\n",
        "\n",
        "plt.plot(model1_data)"
      ],
      "execution_count": null,
      "outputs": []
    },
    {
      "cell_type": "markdown",
      "metadata": {
        "id": "rCJkhWXTpspO"
      },
      "source": [
        "To retrieve some features of the simulated model"
      ]
    },
    {
      "cell_type": "code",
      "metadata": {
        "colab": {
          "base_uri": "https://localhost:8080/"
        },
        "id": "RbYp52QlDw3q",
        "outputId": "70419267-d925-42ca-a171-70116ee35359"
      },
      "source": [
        "model1.arroots"
      ],
      "execution_count": null,
      "outputs": [
        {
          "output_type": "execute_result",
          "data": {
            "text/plain": [
              "array([1.14921894, 4.35078106])"
            ]
          },
          "metadata": {
            "tags": []
          },
          "execution_count": 23
        }
      ]
    },
    {
      "cell_type": "code",
      "metadata": {
        "colab": {
          "base_uri": "https://localhost:8080/"
        },
        "id": "GmGz5gMlD0TH",
        "outputId": "1beb58b0-68e8-400c-e29f-a6a1d3680ac6"
      },
      "source": [
        "model1.maroots"
      ],
      "execution_count": null,
      "outputs": [
        {
          "output_type": "execute_result",
          "data": {
            "text/plain": [
              "array([-3.33333333])"
            ]
          },
          "metadata": {
            "tags": []
          },
          "execution_count": 24
        }
      ]
    },
    {
      "cell_type": "code",
      "metadata": {
        "colab": {
          "base_uri": "https://localhost:8080/"
        },
        "id": "RA2Os6J9D6w5",
        "outputId": "e4ca2750-c8f3-4428-bc41-396b14ce5aa8"
      },
      "source": [
        "model1.isinvertible"
      ],
      "execution_count": null,
      "outputs": [
        {
          "output_type": "execute_result",
          "data": {
            "text/plain": [
              "True"
            ]
          },
          "metadata": {
            "tags": []
          },
          "execution_count": 25
        }
      ]
    },
    {
      "cell_type": "code",
      "metadata": {
        "colab": {
          "base_uri": "https://localhost:8080/"
        },
        "id": "DoybQrT1D9QU",
        "outputId": "d58fb672-6ff6-4483-cbed-2c6f32013e23"
      },
      "source": [
        "model1.isinvertible"
      ],
      "execution_count": null,
      "outputs": [
        {
          "output_type": "execute_result",
          "data": {
            "text/plain": [
              "True"
            ]
          },
          "metadata": {
            "tags": []
          },
          "execution_count": 26
        }
      ]
    },
    {
      "cell_type": "code",
      "metadata": {
        "id": "m_F4W3BoD_lt"
      },
      "source": [
        "acf_model = model1.acf(lags = 24)\n",
        "pacf_model = model1.pacf(lags = 24)"
      ],
      "execution_count": null,
      "outputs": []
    },
    {
      "cell_type": "markdown",
      "metadata": {
        "id": "V_2m5dPA0IhT"
      },
      "source": [
        "# Example: Canadian Employment"
      ]
    },
    {
      "cell_type": "code",
      "metadata": {
        "id": "-fa8dkFUsHyP",
        "collapsed": true,
        "colab": {
          "base_uri": "https://localhost:8080/",
          "height": 667
        },
        "outputId": "5e320531-462e-44d4-f027-97f406d67a9e"
      },
      "source": [
        "caemp = pd.read_csv('https://raw.githubusercontent.com/shihanxie/Econ475/main/data/CanadianEmployment.csv')\n",
        "caemp['date'] = pd.date_range(start='1961-01-01', periods= caemp.shape[0], freq='Q')\n",
        "\n",
        "plt.plot(caemp['date'], caemp['CAEMP'], label = 'Canadian Employment')\n",
        "ax = plt.gca()\n",
        "ax.set_ylabel('employment', fontsize = 'x-large')\n",
        "caemp"
      ],
      "execution_count": null,
      "outputs": [
        {
          "output_type": "execute_result",
          "data": {
            "text/html": [
              "<div>\n",
              "<style scoped>\n",
              "    .dataframe tbody tr th:only-of-type {\n",
              "        vertical-align: middle;\n",
              "    }\n",
              "\n",
              "    .dataframe tbody tr th {\n",
              "        vertical-align: top;\n",
              "    }\n",
              "\n",
              "    .dataframe thead th {\n",
              "        text-align: right;\n",
              "    }\n",
              "</style>\n",
              "<table border=\"1\" class=\"dataframe\">\n",
              "  <thead>\n",
              "    <tr style=\"text-align: right;\">\n",
              "      <th></th>\n",
              "      <th>CAEMP</th>\n",
              "      <th>date</th>\n",
              "    </tr>\n",
              "  </thead>\n",
              "  <tbody>\n",
              "    <tr>\n",
              "      <th>0</th>\n",
              "      <td>83.090255</td>\n",
              "      <td>1961-03-31</td>\n",
              "    </tr>\n",
              "    <tr>\n",
              "      <th>1</th>\n",
              "      <td>82.799634</td>\n",
              "      <td>1961-06-30</td>\n",
              "    </tr>\n",
              "    <tr>\n",
              "      <th>2</th>\n",
              "      <td>84.634438</td>\n",
              "      <td>1961-09-30</td>\n",
              "    </tr>\n",
              "    <tr>\n",
              "      <th>3</th>\n",
              "      <td>85.377458</td>\n",
              "      <td>1961-12-31</td>\n",
              "    </tr>\n",
              "    <tr>\n",
              "      <th>4</th>\n",
              "      <td>86.197605</td>\n",
              "      <td>1962-03-31</td>\n",
              "    </tr>\n",
              "    <tr>\n",
              "      <th>...</th>\n",
              "      <td>...</td>\n",
              "      <td>...</td>\n",
              "    </tr>\n",
              "    <tr>\n",
              "      <th>131</th>\n",
              "      <td>88.361801</td>\n",
              "      <td>1993-12-31</td>\n",
              "    </tr>\n",
              "    <tr>\n",
              "      <th>132</th>\n",
              "      <td>89.031151</td>\n",
              "      <td>1994-03-31</td>\n",
              "    </tr>\n",
              "    <tr>\n",
              "      <th>133</th>\n",
              "      <td>91.020295</td>\n",
              "      <td>1994-06-30</td>\n",
              "    </tr>\n",
              "    <tr>\n",
              "      <th>134</th>\n",
              "      <td>91.673282</td>\n",
              "      <td>1994-09-30</td>\n",
              "    </tr>\n",
              "    <tr>\n",
              "      <th>135</th>\n",
              "      <td>92.014917</td>\n",
              "      <td>1994-12-31</td>\n",
              "    </tr>\n",
              "  </tbody>\n",
              "</table>\n",
              "<p>136 rows × 2 columns</p>\n",
              "</div>"
            ],
            "text/plain": [
              "         CAEMP       date\n",
              "0    83.090255 1961-03-31\n",
              "1    82.799634 1961-06-30\n",
              "2    84.634438 1961-09-30\n",
              "3    85.377458 1961-12-31\n",
              "4    86.197605 1962-03-31\n",
              "..         ...        ...\n",
              "131  88.361801 1993-12-31\n",
              "132  89.031151 1994-03-31\n",
              "133  91.020295 1994-06-30\n",
              "134  91.673282 1994-09-30\n",
              "135  92.014917 1994-12-31\n",
              "\n",
              "[136 rows x 2 columns]"
            ]
          },
          "metadata": {
            "tags": []
          },
          "execution_count": 4
        },
        {
          "output_type": "display_data",
          "data": {
            "image/png": "[encoded data removed]",
            "text/plain": [
              "<Figure size 432x288 with 1 Axes>"
            ]
          },
          "metadata": {
            "tags": [],
            "needs_background": "light"
          }
        }
      ]
    },
    {
      "cell_type": "code",
      "metadata": {
        "colab": {
          "base_uri": "https://localhost:8080/"
        },
        "id": "94R3DTHHrkjR",
        "collapsed": true,
        "outputId": "7ac7e4d7-9609-4fda-8f1d-a86e160fc18e"
      },
      "source": [
        "import statsmodels.tsa.stattools as tst\n",
        "acf = tst.acf(caemp['CAEMP'], qstat = True)\n",
        "pacf = tst.pacf(caemp['CAEMP'])"
      ],
      "execution_count": null,
      "outputs": [
        {
          "output_type": "stream",
          "text": [
            "/usr/local/lib/python3.7/dist-packages/statsmodels/tsa/stattools.py:657: FutureWarning: The default number of lags is changing from 40 tomin(int(10 * np.log10(nobs)), nobs - 1) after 0.12is released. Set the number of lags to an integer to  silence this warning.\n",
            "  FutureWarning,\n",
            "/usr/local/lib/python3.7/dist-packages/statsmodels/tsa/stattools.py:666: FutureWarning: fft=True will become the default after the release of the 0.12 release of statsmodels. To suppress this warning, explicitly set fft=False.\n",
            "  FutureWarning,\n",
            "/usr/local/lib/python3.7/dist-packages/statsmodels/tsa/stattools.py:1021: FutureWarning: The default number of lags is changing from 40 tomin(int(10 * np.log10(nobs)), nobs // 2 - 1) after 0.12is released. Set the number of lags to an integer to  silence this warning.\n",
            "  FutureWarning,\n"
          ],
          "name": "stderr"
        }
      ]
    },
    {
      "cell_type": "code",
      "metadata": {
        "colab": {
          "base_uri": "https://localhost:8080/",
          "height": 281
        },
        "id": "V7O9mMpGsT1K",
        "outputId": "5b71d7d9-f0d5-44dd-c869-b62ba7ea18a9"
      },
      "source": [
        "from statsmodels.graphics.tsaplots import plot_acf\n",
        "plot_acf(caemp['CAEMP'], lags=24)\n",
        "plt.show()"
      ],
      "execution_count": null,
      "outputs": [
        {
          "output_type": "display_data",
          "data": {
            "image/png": "[encoded data removed]",
            "text/plain": [
              "<Figure size 432x288 with 1 Axes>"
            ]
          },
          "metadata": {
            "tags": [],
            "needs_background": "light"
          }
        }
      ]
    },
    {
      "cell_type": "code",
      "metadata": {
        "colab": {
          "base_uri": "https://localhost:8080/",
          "height": 281
        },
        "id": "IUXadMKxsjYu",
        "outputId": "597bb9af-d05b-4c4f-c04a-09901b94a08e"
      },
      "source": [
        "from statsmodels.graphics.tsaplots import plot_pacf\n",
        "plot_pacf(caemp['CAEMP'], lags=24)\n",
        "plt.show()"
      ],
      "execution_count": null,
      "outputs": [
        {
          "output_type": "display_data",
          "data": {
            "image/png": "[encoded data removed]",
            "text/plain": [
              "<Figure size 432x288 with 1 Axes>"
            ]
          },
          "metadata": {
            "tags": [],
            "needs_background": "light"
          }
        }
      ]
    },
    {
      "cell_type": "markdown",
      "metadata": {
        "id": "LGOiWkNU4hEN"
      },
      "source": [
        "## AR(2) model"
      ]
    },
    {
      "cell_type": "code",
      "metadata": {
        "id": "7BoSl-lYsqeN",
        "colab": {
          "base_uri": "https://localhost:8080/"
        },
        "outputId": "070a5556-2b5a-48c0-fcaa-eba2febe8798"
      },
      "source": [
        "ar_model = ARIMA(caemp['CAEMP'], order=(2,0,0))\n",
        "ar_results = ar_model.fit()\n",
        "print(ar_results.summary())"
      ],
      "execution_count": null,
      "outputs": [
        {
          "output_type": "stream",
          "text": [
            "                               SARIMAX Results                                \n",
            "==============================================================================\n",
            "Dep. Variable:                  CAEMP   No. Observations:                  136\n",
            "Model:                 ARIMA(2, 0, 0)   Log Likelihood                -242.786\n",
            "Date:                Wed, 10 Mar 2021   AIC                            493.572\n",
            "Time:                        16:01:56   BIC                            505.222\n",
            "Sample:                             0   HQIC                           498.306\n",
            "                                - 136                                         \n",
            "Covariance Type:                  opg                                         \n",
            "==============================================================================\n",
            "                 coef    std err          z      P>|z|      [0.025      0.975]\n",
            "------------------------------------------------------------------------------\n",
            "const         97.4779      3.734     26.103      0.000      90.159     104.797\n",
            "ar.L1          1.4505      0.063     23.127      0.000       1.328       1.573\n",
            "ar.L2         -0.4762      0.063     -7.606      0.000      -0.599      -0.353\n",
            "sigma2         2.0218      0.150     13.476      0.000       1.728       2.316\n",
            "===================================================================================\n",
            "Ljung-Box (L1) (Q):                   0.26   Jarque-Bera (JB):                83.69\n",
            "Prob(Q):                              0.61   Prob(JB):                         0.00\n",
            "Heteroskedasticity (H):               3.09   Skew:                             0.62\n",
            "Prob(H) (two-sided):                  0.00   Kurtosis:                         6.64\n",
            "===================================================================================\n",
            "\n",
            "Warnings:\n",
            "[1] Covariance matrix calculated using the outer product of gradients (complex-step).\n"
          ],
          "name": "stdout"
        }
      ]
    },
    {
      "cell_type": "code",
      "metadata": {
        "colab": {
          "base_uri": "https://localhost:8080/"
        },
        "id": "56n8yKZFfhc6",
        "outputId": "5d52ee2f-7759-44a0-ba83-eb0aa53876c7"
      },
      "source": [
        "# Check AR roots to ensure model stationarity\n",
        "ar_results.arroots"
      ],
      "execution_count": null,
      "outputs": [
        {
          "output_type": "execute_result",
          "data": {
            "text/plain": [
              "array([1.05442642, 1.99174381])"
            ]
          },
          "metadata": {
            "tags": []
          },
          "execution_count": 33
        }
      ]
    },
    {
      "cell_type": "code",
      "metadata": {
        "id": "IKIQEnj6tG7D",
        "colab": {
          "base_uri": "https://localhost:8080/"
        },
        "outputId": "9c50ea0b-cd39-4535-aac4-59694a311ee9"
      },
      "source": [
        "from statsmodels.stats import diagnostic\n",
        "bgtest = diagnostic.acorr_breusch_godfrey(ar_results, nlags = 12)\n",
        "print('Breusch Godfrey test LM statistic: ', bgtest[0])\n",
        "print('Breusch Godfrey test LM p-value: ', bgtest[1])"
      ],
      "execution_count": null,
      "outputs": [
        {
          "output_type": "stream",
          "text": [
            "Breusch Godfrey test LM statistic:  2.82571106896739\n",
            "Breusch Godfrey test LM p-value:  0.9966544052276602\n"
          ],
          "name": "stdout"
        }
      ]
    },
    {
      "cell_type": "code",
      "metadata": {
        "colab": {
          "base_uri": "https://localhost:8080/"
        },
        "id": "a9-IuWlgZJil",
        "outputId": "a9f1f1da-3c1d-44d2-8609-43709e7aa310"
      },
      "source": [
        "from statsmodels.stats import stattools as st\n",
        "st.durbin_watson(ar_results.resid)"
      ],
      "execution_count": null,
      "outputs": [
        {
          "output_type": "execute_result",
          "data": {
            "text/plain": [
              "1.5817599131651958"
            ]
          },
          "metadata": {
            "tags": []
          },
          "execution_count": 35
        }
      ]
    },
    {
      "cell_type": "code",
      "metadata": {
        "colab": {
          "base_uri": "https://localhost:8080/",
          "height": 545
        },
        "id": "4LGMPgPW7LL6",
        "outputId": "7abdd539-311f-4319-be62-e683abebc07f"
      },
      "source": [
        "# ACF and PACF of the model residuals\n",
        "plot_acf(ar_results.resid, lags=8)\n",
        "plot_pacf(ar_results.resid, lags=8)\n",
        "plt.show()"
      ],
      "execution_count": null,
      "outputs": [
        {
          "output_type": "display_data",
          "data": {
            "image/png": "[encoded data removed]",
            "text/plain": [
              "<Figure size 432x288 with 1 Axes>"
            ]
          },
          "metadata": {
            "tags": [],
            "needs_background": "light"
          }
        },
        {
          "output_type": "display_data",
          "data": {
            "image/png": "[encoded data removed]",
            "text/plain": [
              "<Figure size 432x288 with 1 Axes>"
            ]
          },
          "metadata": {
            "tags": [],
            "needs_background": "light"
          }
        }
      ]
    },
    {
      "cell_type": "markdown",
      "metadata": {
        "id": "W8Alnvlu06Kb"
      },
      "source": [
        "###In-sample Forecast"
      ]
    },
    {
      "cell_type": "code",
      "metadata": {
        "id": "IDVFZYAS09qV",
        "colab": {
          "base_uri": "https://localhost:8080/",
          "height": 268
        },
        "outputId": "f3d77451-5e33-4cc5-d308-ed0bdd6e3492"
      },
      "source": [
        "# Make in-sample forecast for last 4 quarters\n",
        "ar_predict = ar_results.get_prediction(start=-4, dynamic=True)\n",
        "# forecast mean\n",
        "mean_predict = ar_predict.predicted_mean\n",
        "# get confidence interval of forecast\n",
        "confidence_interval = ar_predict.conf_int()\n",
        "\n",
        "# plotting predictions\n",
        "plt.figure()\n",
        "plt.plot(caemp['date'][-24:], caemp['CAEMP'][-24:], label = 'Canadian Employment')\n",
        "plt.plot(caemp['date'][-4:], mean_predict.values)\n",
        "\n",
        "# Shade confidence interval\n",
        "plt.fill_between(caemp['date'][-4:], \n",
        "                 confidence_interval['lower CAEMP'], confidence_interval['upper CAEMP'], \n",
        "                 color='lightgrey')\n",
        "plt.show()"
      ],
      "execution_count": null,
      "outputs": [
        {
          "output_type": "display_data",
          "data": {
            "image/png": "[encoded data removed]",
            "text/plain": [
              "<Figure size 432x288 with 1 Axes>"
            ]
          },
          "metadata": {
            "tags": [],
            "needs_background": "light"
          }
        }
      ]
    },
    {
      "cell_type": "markdown",
      "metadata": {
        "id": "lqbboFx34ylu"
      },
      "source": [
        "###Out-of-sample Forecast"
      ]
    },
    {
      "cell_type": "code",
      "metadata": {
        "id": "O7PHm4GA4xgz",
        "colab": {
          "base_uri": "https://localhost:8080/",
          "height": 265
        },
        "outputId": "13adc114-ebf5-4776-912c-86552f5cf57a"
      },
      "source": [
        "# Make out-of-sample forecast for next 15 years (60 quarters)\n",
        "ar_forecast = ar_results.get_forecast(60)\n",
        "# forecast mean\n",
        "mean_forecast = ar_forecast.predicted_mean\n",
        "# get confidence interval of forecast\n",
        "confidence_interval = ar_forecast.conf_int()\n",
        "\n",
        "# plotting predictions\n",
        "forecast_date = pd.date_range(start='1995-01-01', periods=60, freq='Q')\n",
        "plt.figure()\n",
        "plt.plot(caemp['date'][-24:], caemp['CAEMP'][-24:], label = 'Canadian Employment')\n",
        "plt.plot(forecast_date, mean_forecast.values)\n",
        "\n",
        "# Shade confidence interval\n",
        "plt.fill_between(forecast_date, \n",
        "                 confidence_interval['lower CAEMP'], confidence_interval['upper CAEMP'], \n",
        "                 color='lightgrey')\n",
        "plt.show()"
      ],
      "execution_count": null,
      "outputs": [
        {
          "output_type": "display_data",
          "data": {
            "image/png": "[encoded data removed]",
            "text/plain": [
              "<Figure size 432x288 with 1 Axes>"
            ]
          },
          "metadata": {
            "tags": [],
            "needs_background": "light"
          }
        }
      ]
    },
    {
      "cell_type": "markdown",
      "metadata": {
        "id": "JUAW4jmF4ltx"
      },
      "source": [
        "## MA(4) model"
      ]
    },
    {
      "cell_type": "code",
      "metadata": {
        "id": "-z098K13Z2VU",
        "colab": {
          "base_uri": "https://localhost:8080/"
        },
        "outputId": "25fb2d19-0afa-4a45-a59c-48b80cefcb7c"
      },
      "source": [
        "ma_model = ARIMA(caemp['CAEMP'], order=(0,0,4))\n",
        "ma_results = ma_model.fit(method='innovations_mle')\n",
        "print(ma_results.summary())"
      ],
      "execution_count": null,
      "outputs": [
        {
          "output_type": "stream",
          "text": [
            "                               SARIMAX Results                                \n",
            "==============================================================================\n",
            "Dep. Variable:                  CAEMP   No. Observations:                  136\n",
            "Model:                 ARIMA(0, 0, 4)   Log Likelihood                -283.631\n",
            "Date:                Wed, 10 Mar 2021   AIC                            579.262\n",
            "Time:                        16:03:31   BIC                            596.738\n",
            "Sample:                             0   HQIC                           586.364\n",
            "                                - 136                                         \n",
            "Covariance Type:                  opg                                         \n",
            "==============================================================================\n",
            "                 coef    std err          z      P>|z|      [0.025      0.975]\n",
            "------------------------------------------------------------------------------\n",
            "const         99.9266      1.039     96.191      0.000      97.890     101.963\n",
            "ma.L1          1.6726      0.065     25.586      0.000       1.544       1.801\n",
            "ma.L2          1.7997      0.105     17.201      0.000       1.595       2.005\n",
            "ma.L3          1.3049      0.109     11.940      0.000       1.091       1.519\n",
            "ma.L4          0.5493      0.072      7.600      0.000       0.408       0.691\n",
            "sigma2         3.6848      0.469      7.858      0.000       2.766       4.604\n",
            "===================================================================================\n",
            "Ljung-Box (L1) (Q):                   3.03   Jarque-Bera (JB):                 0.94\n",
            "Prob(Q):                              0.08   Prob(JB):                         0.63\n",
            "Heteroskedasticity (H):               1.91   Skew:                            -0.12\n",
            "Prob(H) (two-sided):                  0.03   Kurtosis:                         3.33\n",
            "===================================================================================\n",
            "\n",
            "Warnings:\n",
            "[1] Covariance matrix calculated using the outer product of gradients (complex-step).\n"
          ],
          "name": "stdout"
        }
      ]
    },
    {
      "cell_type": "code",
      "metadata": {
        "colab": {
          "base_uri": "https://localhost:8080/",
          "height": 545
        },
        "id": "_Sol8-L87aoG",
        "outputId": "cf46e3a9-9e8d-4fe0-aed2-bebb6f390e21"
      },
      "source": [
        "# ACF and PACF of the residuals\n",
        "plot_acf(ma_results.resid, lags=8)\n",
        "plot_pacf(ma_results.resid, lags=8)\n",
        "plt.show()"
      ],
      "execution_count": null,
      "outputs": [
        {
          "output_type": "display_data",
          "data": {
            "image/png": "[encoded data removed]",
            "text/plain": [
              "<Figure size 432x288 with 1 Axes>"
            ]
          },
          "metadata": {
            "tags": [],
            "needs_background": "light"
          }
        },
        {
          "output_type": "display_data",
          "data": {
            "image/png": "[encoded data removed]",
            "text/plain": [
              "<Figure size 432x288 with 1 Axes>"
            ]
          },
          "metadata": {
            "tags": [],
            "needs_background": "light"
          }
        }
      ]
    },
    {
      "cell_type": "markdown",
      "metadata": {
        "id": "iq9htB0I9hWJ"
      },
      "source": [
        "###In-sample Forecast"
      ]
    },
    {
      "cell_type": "code",
      "metadata": {
        "id": "EtvgxJv09eFP",
        "colab": {
          "base_uri": "https://localhost:8080/",
          "height": 265
        },
        "outputId": "6e8ba57c-2147-4ca0-8f0a-2791a9cf94a6"
      },
      "source": [
        "# Make in-sample forecast for last 4 quarters\n",
        "ma_predict = ma_results.get_prediction(start=-4, dynamic=True)\n",
        "# forecast mean\n",
        "mean_predict = ma_predict.predicted_mean\n",
        "# get confidence interval of forecast\n",
        "confidence_interval = ma_predict.conf_int()\n",
        "\n",
        "# plotting predictions\n",
        "plt.figure()\n",
        "plt.plot(caemp['date'][-24:], caemp['CAEMP'][-24:], label = 'Canadian Employment')\n",
        "plt.plot(caemp['date'][-4:], mean_predict.values)\n",
        "\n",
        "# Shade confidence interval\n",
        "plt.fill_between(caemp['date'][-4:], \n",
        "                 confidence_interval['lower CAEMP'], confidence_interval['upper CAEMP'], \n",
        "                 color='lightgrey')\n",
        "plt.show()"
      ],
      "execution_count": null,
      "outputs": [
        {
          "output_type": "display_data",
          "data": {
            "image/png": "[encoded data removed]",
            "text/plain": [
              "<Figure size 432x288 with 1 Axes>"
            ]
          },
          "metadata": {
            "tags": [],
            "needs_background": "light"
          }
        }
      ]
    },
    {
      "cell_type": "markdown",
      "metadata": {
        "id": "ZJZFpL5U9730"
      },
      "source": [
        "###Out-of-sample Forecast"
      ]
    },
    {
      "cell_type": "code",
      "metadata": {
        "id": "QkBlwVkv97nI",
        "colab": {
          "base_uri": "https://localhost:8080/",
          "height": 265
        },
        "outputId": "64c180b8-dc05-4851-f4ae-241b85f11e6e"
      },
      "source": [
        "# Make out-of-sample forecast for next 15 years (60 quarters)\n",
        "ma_forecast = ma_results.get_forecast(60)\n",
        "# forecast mean\n",
        "mean_forecast = ma_forecast.predicted_mean\n",
        "# get confidence interval of forecast\n",
        "confidence_interval = ma_forecast.conf_int()\n",
        "\n",
        "# plotting predictions\n",
        "forecast_date = pd.date_range(start='1995-01-01', periods=60, freq='Q')\n",
        "plt.figure()\n",
        "plt.plot(caemp['date'][-24:], caemp['CAEMP'][-24:], label = 'Canadian Employment')\n",
        "plt.plot(forecast_date, mean_forecast.values)\n",
        "\n",
        "# Shade confidence interval\n",
        "plt.fill_between(forecast_date, \n",
        "                 confidence_interval['lower CAEMP'], confidence_interval['upper CAEMP'], \n",
        "                 color='lightgrey')\n",
        "plt.show()"
      ],
      "execution_count": null,
      "outputs": [
        {
          "output_type": "display_data",
          "data": {
            "image/png": "[encoded data removed]",
            "text/plain": [
              "<Figure size 432x288 with 1 Axes>"
            ]
          },
          "metadata": {
            "tags": [],
            "needs_background": "light"
          }
        }
      ]
    },
    {
      "cell_type": "markdown",
      "metadata": {
        "id": "XSCgTj_N8VBa"
      },
      "source": [
        "##ARMA(3,1) Model"
      ]
    },
    {
      "cell_type": "code",
      "metadata": {
        "colab": {
          "base_uri": "https://localhost:8080/"
        },
        "id": "w9hI3hBN4rXE",
        "outputId": "ead0b5d5-1226-4351-8400-14169682ff36"
      },
      "source": [
        "arma_model = ARIMA(caemp['CAEMP'], order=(3,0,1))\n",
        "arma_results = arma_model.fit(method='hannan_rissanen')\n",
        "print(arma_results.summary())"
      ],
      "execution_count": null,
      "outputs": [
        {
          "output_type": "stream",
          "text": [
            "                               SARIMAX Results                                \n",
            "==============================================================================\n",
            "Dep. Variable:                  CAEMP   No. Observations:                  136\n",
            "Model:                 ARIMA(3, 0, 1)   Log Likelihood                -242.676\n",
            "Date:                Wed, 10 Mar 2021   AIC                            497.352\n",
            "Time:                        16:22:22   BIC                            514.828\n",
            "Sample:                             0   HQIC                           504.453\n",
            "                                - 136                                         \n",
            "Covariance Type:                  opg                                         \n",
            "==============================================================================\n",
            "                 coef    std err          z      P>|z|      [0.025      0.975]\n",
            "------------------------------------------------------------------------------\n",
            "const         98.4625      3.136     31.399      0.000      92.316     104.609\n",
            "ar.L1          1.9036      0.886      2.150      0.032       0.168       3.639\n",
            "ar.L2         -1.0893      1.324     -0.823      0.411      -3.684       1.506\n",
            "ar.L3          0.1673      0.469      0.357      0.721      -0.752       1.087\n",
            "ma.L1         -0.4983      0.874     -0.570      0.568      -2.211       1.214\n",
            "sigma2         2.2109      0.206     10.736      0.000       1.807       2.615\n",
            "===================================================================================\n",
            "Ljung-Box (L1) (Q):                   0.01   Jarque-Bera (JB):                90.54\n",
            "Prob(Q):                              0.94   Prob(JB):                         0.00\n",
            "Heteroskedasticity (H):               3.02   Skew:                             0.66\n",
            "Prob(H) (two-sided):                  0.00   Kurtosis:                         6.78\n",
            "===================================================================================\n",
            "\n",
            "Warnings:\n",
            "[1] Covariance matrix calculated using the outer product of gradients (complex-step).\n"
          ],
          "name": "stdout"
        }
      ]
    },
    {
      "cell_type": "code",
      "metadata": {
        "id": "w0SMUhCErqaV",
        "colab": {
          "base_uri": "https://localhost:8080/"
        },
        "outputId": "2681ff63-221e-4383-894d-68dd94853ed2"
      },
      "source": [
        "arma_results.params"
      ],
      "execution_count": null,
      "outputs": [
        {
          "output_type": "execute_result",
          "data": {
            "text/plain": [
              "const     98.462494\n",
              "ar.L1      1.903585\n",
              "ar.L2     -1.089320\n",
              "ar.L3      0.167273\n",
              "ma.L1     -0.498254\n",
              "sigma2     2.210891\n",
              "dtype: float64"
            ]
          },
          "metadata": {
            "tags": []
          },
          "execution_count": 14
        }
      ]
    },
    {
      "cell_type": "code",
      "metadata": {
        "colab": {
          "base_uri": "https://localhost:8080/",
          "height": 545
        },
        "id": "e2tzskO265RI",
        "outputId": "8ba36786-0af5-4f3c-d004-e5c3b6534a89"
      },
      "source": [
        "# ACF and PACF of the residuals\n",
        "plot_acf(arma_results.resid, lags=8)\n",
        "plot_pacf(arma_results.resid, lags=8)\n",
        "plt.show()"
      ],
      "execution_count": null,
      "outputs": [
        {
          "output_type": "display_data",
          "data": {
            "image/png": "[encoded data removed]",
            "text/plain": [
              "<Figure size 432x288 with 1 Axes>"
            ]
          },
          "metadata": {
            "tags": [],
            "needs_background": "light"
          }
        },
        {
          "output_type": "display_data",
          "data": {
            "image/png": "[encoded data removed]",
            "text/plain": [
              "<Figure size 432x288 with 1 Axes>"
            ]
          },
          "metadata": {
            "tags": [],
            "needs_background": "light"
          }
        }
      ]
    },
    {
      "cell_type": "markdown",
      "metadata": {
        "id": "ToJT3FI9-ZkP"
      },
      "source": [
        "###Exercise: \n",
        "Generate in-sample and out-of-sample forecast using ARMA(3,1) model"
      ]
    },
    {
      "cell_type": "code",
      "metadata": {
        "id": "D1Z4vQf08vER"
      },
      "source": [
        ""
      ],
      "execution_count": null,
      "outputs": []
    }
  ]
}