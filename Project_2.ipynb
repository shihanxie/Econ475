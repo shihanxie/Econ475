{
  "nbformat": 4,
  "nbformat_minor": 0,
  "metadata": {
    "colab": {
      "name": "Project 2.ipynb",
      "provenance": [],
      "authorship_tag": "ABX9TyMNTiC3gmZV2WDyHbgCErTH",
      "include_colab_link": true
    },
    "kernelspec": {
      "name": "python3",
      "display_name": "Python 3"
    },
    "language_info": {
      "name": "python"
    }
  },
  "cells": [
    {
      "cell_type": "markdown",
      "metadata": {
        "id": "view-in-github",
        "colab_type": "text"
      },
      "source": [
        "<a href=\"https://colab.research.google.com/github/shihanxie/Econ475/blob/main/Project_2.ipynb\" target=\"_parent\"><img src=\"https://colab.research.google.com/assets/colab-badge.svg\" alt=\"Open In Colab\"/></a>"
      ]
    },
    {
      "cell_type": "markdown",
      "metadata": {
        "id": "LbNc4_snDRrW"
      },
      "source": [
        "#Project 2\n",
        "Instructions: \n",
        "- Please read the project description before your start.\n",
        "- To save a copy of your ipython notebook: click ```File -> Download .ipyhon```\n",
        "- Write your code in the code cells below each Step description. You may add extra cells if needed.\n"
      ]
    },
    {
      "cell_type": "code",
      "metadata": {
        "id": "mXWFR1pGKLBZ"
      },
      "source": [
        "# Run this cell as the first step to make sure we use the most updated version of statsmodels in python\n",
        "# If it fails to import the latest version, try click Runtime -> Restart runtime and start from here again\n",
        "!pip install statsmodels==0.12.0\n",
        "import statsmodels"
      ],
      "execution_count": null,
      "outputs": []
    },
    {
      "cell_type": "code",
      "metadata": {
        "id": "_A34OWSyDK2m"
      },
      "source": [
        "import numpy as np\n",
        "import pandas as pd\n",
        "import datetime\n",
        "import matplotlib.pyplot as plt\n",
        "import statsmodels.api as sm\n",
        "from statsmodels.tsa.arima.model import ARIMA\n",
        "from statsmodels.graphics.tsaplots import plot_acf, plot_pacf\n",
        "from scipy import stats\n",
        "\n",
        "!pip install arch\n",
        "from arch import arch_model"
      ],
      "execution_count": null,
      "outputs": []
    },
    {
      "cell_type": "markdown",
      "metadata": {
        "id": "tKiRMwy5FB1j"
      },
      "source": [
        "## Modeling volatility using US Dollar / Australian Dollar exchange rate data\n",
        "Step 1: import data from Github\n",
        "- Check to see that DataFrame usdaud a column ```USDAUD```, which is the USD/AUD exchange rate\n",
        "- The sample is daily and covers the period from Jan 2, 2001 to Oct 14, 2004"
      ]
    },
    {
      "cell_type": "code",
      "metadata": {
        "id": "318mTjDnEy--"
      },
      "source": [
        "usdaud = pd.read_csv('https://raw.githubusercontent.com/shihanxie/Econ475/main/data/usdaud.csv')\n",
        "usdaud.index = pd.date_range(start='2001-01-02', periods= usdaud.shape[0], freq='D')"
      ],
      "execution_count": 47,
      "outputs": []
    },
    {
      "cell_type": "markdown",
      "metadata": {
        "id": "kCS1NN0aRIJG"
      },
      "source": [
        "Step 2: Compute and plot the first difference of the log(exchange rate), or $\\Delta \\log(usdaud_t) \\times 100$. From now on, we will use $y_t$ to refer $\\Delta \\log(usdaud_t) \\times 100$, which is the daily percentage change in USD/AUD exchange rate.\n",
        "\n",
        "Hint: use ```np.log(var).diff()``` to compute the first difference of the log of ```var```."
      ]
    },
    {
      "cell_type": "code",
      "metadata": {
        "id": "iNUfA0-e_DjR"
      },
      "source": [
        ""
      ],
      "execution_count": null,
      "outputs": []
    },
    {
      "cell_type": "markdown",
      "metadata": {
        "id": "5MnNAfD0SBq5"
      },
      "source": [
        "Step 3: Plot the histogram and compute the descriptive statistics of $y_t$. Conduct the proper test to see if it is normally distributed."
      ]
    },
    {
      "cell_type": "code",
      "metadata": {
        "id": "AOCGb46w_DIi"
      },
      "source": [
        ""
      ],
      "execution_count": null,
      "outputs": []
    },
    {
      "cell_type": "markdown",
      "metadata": {
        "id": "P1_4SVnhZt6f"
      },
      "source": [
        "Step 4: Compare the historgram of $y_t$ to a normal distribution."
      ]
    },
    {
      "cell_type": "code",
      "metadata": {
        "id": "mzoJLWIZ_CxK"
      },
      "source": [
        ""
      ],
      "execution_count": null,
      "outputs": []
    },
    {
      "cell_type": "markdown",
      "metadata": {
        "id": "tq0ccBZvZ8T5"
      },
      "source": [
        "Step 5: Compute the correlogram of squared $y_t$ up to 12 lags."
      ]
    },
    {
      "cell_type": "code",
      "metadata": {
        "id": "QS_XO2rj_CV6"
      },
      "source": [
        ""
      ],
      "execution_count": null,
      "outputs": []
    },
    {
      "cell_type": "markdown",
      "metadata": {
        "id": "4N7TETAvaZGB"
      },
      "source": [
        "Step 6: Estimate an AR(1) model for squared $y_t$"
      ]
    },
    {
      "cell_type": "code",
      "metadata": {
        "id": "TRg6Pm_3_B3f"
      },
      "source": [
        ""
      ],
      "execution_count": null,
      "outputs": []
    },
    {
      "cell_type": "markdown",
      "metadata": {
        "id": "HjTI8W-Ca5qt"
      },
      "source": [
        "Step 7: Estimate an ARCH(1) model and a GARCH(1,1) model for\n",
        "$$\n",
        "\\begin{aligned}\n",
        "&y_t =\\mu+\\varepsilon_{t} \\\\\n",
        "&\\varepsilon_{t} \\mid \\Omega_{t-1} \\sim N\\left(0, \\sigma_{t}^{2}\\right)\n",
        "\\end{aligned}\n",
        "$$"
      ]
    },
    {
      "cell_type": "code",
      "metadata": {
        "id": "LSeTbdNA_A75"
      },
      "source": [
        ""
      ],
      "execution_count": null,
      "outputs": []
    },
    {
      "cell_type": "markdown",
      "metadata": {
        "id": "NRt1241UsmT6"
      },
      "source": [
        "Step 8: Estimate an AR(1)-ARCH(1) model and an AR(1)-GARCH(1,1) model for\n",
        "$$\n",
        "\\begin{aligned}\n",
        "&y_t =\\mu+\\rho y_{t-1} + \\varepsilon_{t} \\\\\n",
        "&\\varepsilon_{t} \\mid \\Omega_{t-1} \\sim N\\left(0, \\sigma_{t}^{2}\\right)\n",
        "\\end{aligned}\n",
        "$$"
      ]
    },
    {
      "cell_type": "code",
      "metadata": {
        "id": "0gn0m7Uq_AEj"
      },
      "source": [
        ""
      ],
      "execution_count": null,
      "outputs": []
    },
    {
      "cell_type": "markdown",
      "metadata": {
        "id": "KJ-J99m3s9nv"
      },
      "source": [
        "Step 9: Plot the estimated conditional variance of the best-fitting model among the ones considered"
      ]
    },
    {
      "cell_type": "code",
      "metadata": {
        "id": "DGddM8jK9_cs"
      },
      "source": [
        ""
      ],
      "execution_count": null,
      "outputs": []
    }
  ]
}