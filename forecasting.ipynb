{
 "cells": [
  {
   "cell_type": "markdown",
   "metadata": {
    "id": "o65ywttbPPHr"
   },
   "source": [
    "# Table of Contents\n"
   ]
  },
  {
   "cell_type": "markdown",
   "metadata": {
    "id": "HTCzc2SjSuzl"
   },
   "source": [
    "## Setup\n",
    "<a href=#numpy&list>Numpy and lists</a>\n",
    "\n",
    "<a href=#iteration>Iteration</a>\n",
    "\n",
    "<a href=#pandas>Importing data with Pandas</a>\n",
    "\n",
    "<a href=#inspect>Data inspection</a>\n",
    "\n",
    "<a href=#plot>Data plotting</a>"
   ]
  },
  {
   "cell_type": "markdown",
   "metadata": {
    "id": "qcmpD2ulOxsM"
   },
   "source": [
    "# Setup"
   ]
  },
  {
   "cell_type": "markdown",
   "metadata": {
    "id": "Y1VO743WQqAS"
   },
   "source": [
    "Welcome to Econ 475 (Economic forecasting). In this course, we will be using Python to learn XXX, YYY, ZZZ. \n",
    "\n",
    "Google Colab is a free web-based interactive Python platform based off of Jupyter Notebook, and implements many commonly used Python packages. Nothing is required for local installation and you can save a copy of this file to your Google Drive and starting working your way through this tutorial. \n",
    "\n",
    "We will start with the basics assuming no background in coding or Python specifically. For those experienced, you can go to ### directly to start the course. \n",
    "\n",
    "Python comes with built-in functions that you can call arguments in the following way:\n",
    "\n",
    "```\n",
    "function(arg1, arg2, arg3...)\n",
    "```\n",
    "where ```function``` is the name of the function calling, ```arg1```, ```arg2``` and ```arg3``` are provided to the function. Depending on the design of the function, it can take no argument or many. \n"
   ]
  },
  {
   "cell_type": "code",
   "execution_count": 1,
   "metadata": {
    "colab": {
     "base_uri": "https://localhost:8080/"
    },
    "id": "MHppf9-sO29u",
    "outputId": "57285ed8-8b91-438d-a88c-791da437978e"
   },
   "outputs": [
    {
     "name": "stdout",
     "output_type": "stream",
     "text": [
      "Hello world!\n"
     ]
    }
   ],
   "source": [
    "print(\"Hello world!\")"
   ]
  },
  {
   "cell_type": "markdown",
   "metadata": {
    "id": "5QyOUhFw1OUX"
   },
   "source": [
    "## Numpy and lists<a name='numpy&list'></a>\n",
    "Python has lists built into the language.\n",
    "However, we will use a library called numpy for this.\n",
    "Numpy gives you lots of support functions that are useful in our course. \n",
    "\n",
    "Here, you will also see an import statement. This statement makes the entire numpy package available and we can access those symbols using the abbreviated 'np' syntax."
   ]
  },
  {
   "cell_type": "code",
   "execution_count": 3,
   "metadata": {
    "colab": {
     "base_uri": "https://localhost:8080/"
    },
    "id": "4Dxk4q-jzEy4",
    "outputId": "fffcc89b-a015-40a6-932e-a699af454fa2"
   },
   "outputs": [
    {
     "name": "stdout",
     "output_type": "stream",
     "text": [
      "Current array: ['Hello' 'World' '!']\n",
      "Printing each element\n",
      "Hello\n",
      "World\n",
      "!\n",
      "\n",
      "Printing each element and their index\n",
      "Index: 0, was: Hello\n",
      "Index: 1, was: World\n",
      "Index: 2, was: !\n"
     ]
    }
   ],
   "source": [
    "import numpy as np  # Make numpy available using np.\n",
    "\n",
    "# Create a numpy array, and append an element\n",
    "a = np.array([\"Hello\", \"World\"])\n",
    "a = np.append(a, \"!\")\n",
    "print(\"Current array: {}\".format(a))\n",
    "print(\"Printing each element\")\n",
    "for i in a:\n",
    "    print(i)\n",
    "\n",
    "print(\"\\nPrinting each element and their index\")\n",
    "for i,e in enumerate(a):\n",
    "    print(\"Index: {}, was: {}\".format(i, e))"
   ]
  },
  {
   "cell_type": "code",
   "execution_count": 4,
   "metadata": {
    "id": "RTa8_9G3LV03"
   },
   "outputs": [
    {
     "name": "stdout",
     "output_type": "stream",
     "text": [
      "\n",
      "Showing some basic math on arrays\n",
      "Max: 4\n",
      "Average: 2.0\n",
      "Max index: 2\n"
     ]
    }
   ],
   "source": [
    "print(\"\\nShowing some basic math on arrays\")\n",
    "b = np.array([0,1,4,3,2])\n",
    "print(\"Max: {}\".format(np.max(b)))\n",
    "print(\"Average: {}\".format(np.average(b)))\n",
    "print(\"Max index: {}\".format(np.argmax(b)))"
   ]
  },
  {
   "cell_type": "code",
   "execution_count": 5,
   "metadata": {
    "id": "9YaGj5n4LW7P"
   },
   "outputs": [
    {
     "name": "stdout",
     "output_type": "stream",
     "text": [
      "\n",
      "You can print the type of anything\n",
      "Type of b: <class 'numpy.ndarray'>, type of b[0]: <class 'numpy.int64'>\n"
     ]
    }
   ],
   "source": [
    "print(\"\\nYou can print the type of anything\")\n",
    "print(\"Type of b: {}, type of b[0]: {}\".format(type(b), type(b[0])))"
   ]
  },
  {
   "cell_type": "code",
   "execution_count": 6,
   "metadata": {
    "id": "V6ilVhi9LXn_"
   },
   "outputs": [
    {
     "name": "stdout",
     "output_type": "stream",
     "text": [
      "\n",
      "Use numpy to create a [3,3] dimension array with random number\n",
      "[[0.33868584 0.69680488 0.57861365]\n",
      " [0.59169812 0.04504453 0.41294287]\n",
      " [0.7248401  0.37621764 0.94035187]]\n"
     ]
    }
   ],
   "source": [
    "print(\"\\nUse numpy to create a [3,3] dimension array with random number\")\n",
    "c = np.random.rand(3, 3)\n",
    "print(c)"
   ]
  },
  {
   "cell_type": "code",
   "execution_count": 7,
   "metadata": {
    "id": "W_Q-DkFCLYGA"
   },
   "outputs": [
    {
     "name": "stdout",
     "output_type": "stream",
     "text": [
      "\n",
      "You can print the dimensions of arrays\n",
      "Shape of a: (3,)\n",
      "Shape of b: (5,)\n",
      "Shape of c: (3, 3)\n",
      "...Observe, Python uses both [0,1,2] and (0,1,2) to specify lists\n"
     ]
    }
   ],
   "source": [
    "print(\"\\nYou can print the dimensions of arrays\")\n",
    "print(\"Shape of a: {}\".format(a.shape))\n",
    "print(\"Shape of b: {}\".format(b.shape))\n",
    "print(\"Shape of c: {}\".format(c.shape))\n",
    "print(\"...Observe, Python uses both [0,1,2] and (0,1,2) to specify lists\")"
   ]
  },
  {
   "cell_type": "markdown",
   "metadata": {
    "id": "n55KX6xDSQnq"
   },
   "source": [
    "## Iteration <a name='iteration'></a>"
   ]
  },
  {
   "cell_type": "markdown",
   "metadata": {
    "id": "kiZG7uhm8qCF"
   },
   "source": [
    "If you want a loop starting at 0 to 2 (exclusive) you could do any of the following"
   ]
  },
  {
   "cell_type": "code",
   "execution_count": 10,
   "metadata": {
    "id": "m8YQN1H41L-Y"
   },
   "outputs": [
    {
     "name": "stdout",
     "output_type": "stream",
     "text": [
      "Iterate over the items. `range(2)` is like a list [0,1].\n",
      "0\n",
      "1\n",
      "Iterate over an actual list.\n",
      "0\n",
      "1\n",
      "While works\n",
      "0\n",
      "1\n"
     ]
    }
   ],
   "source": [
    "print(\"Iterate over the items. `range(2)` is like a list [0,1].\")\n",
    "for i in range(2):\n",
    "    print(i)\n",
    "\n",
    "print(\"Iterate over an actual list.\")\n",
    "for i in [0,1]:\n",
    "      print(i)\n",
    "\n",
    "print(\"While works\")\n",
    "i = 0\n",
    "while i < 2:\n",
    "    print(i)\n",
    "    i += 1"
   ]
  },
  {
   "cell_type": "code",
   "execution_count": 11,
   "metadata": {
    "id": "vIgmFZq4zszl"
   },
   "outputs": [
    {
     "name": "stdout",
     "output_type": "stream",
     "text": [
      "Python supports standard key words like continue and break\n",
      "Entered while\n"
     ]
    }
   ],
   "source": [
    "print(\"Python supports standard key words like continue and break\")\n",
    "while True:\n",
    "    print(\"Entered while\")\n",
    "    break"
   ]
  },
  {
   "cell_type": "markdown",
   "metadata": {
    "id": "hIS-Qq_xTIwp"
   },
   "source": [
    "## Importing/Exporting Data with Pandas<a name='pandas'></a>"
   ]
  },
  {
   "cell_type": "markdown",
   "metadata": {
    "id": "oPDtinwVTOJB"
   },
   "source": [
    "Pandas is a popular Python package that provides fast, powerful, flexible and easy to use open source data analysis and manipulation tool.\n",
    "\n",
    "In the following sections, we will demonstrate how to import and export data from/to Microsoft Excel Spreadsheet and comma-seperated value (CSV) file. This is usually the first step in data analysis."
   ]
  },
  {
   "cell_type": "code",
   "execution_count": 12,
   "metadata": {
    "id": "nyDOo_lNT1Rh"
   },
   "outputs": [],
   "source": [
    "import pandas as pd"
   ]
  },
  {
   "cell_type": "markdown",
   "metadata": {},
   "source": [
    "Data is read into a DataFrame object using Pandas for easy manipulation. Let's call it ```df```."
   ]
  },
  {
   "cell_type": "code",
   "execution_count": 43,
   "metadata": {
    "colab": {
     "base_uri": "https://localhost:8080/",
     "height": 307
    },
    "id": "Fbo7pZDNT4er",
    "outputId": "f993a416-efed-422a-fe27-fd94c3df2414"
   },
   "outputs": [],
   "source": [
    "df = pd.read_excel(\"https://github.com/DyangLi/Econ475/blob/main/data/intro.xlsx?raw=true\")"
   ]
  },
  {
   "cell_type": "markdown",
   "metadata": {
    "colab": {
     "base_uri": "https://localhost:8080/",
     "height": 35
    },
    "id": "1m6bb3ZTVx7_",
    "outputId": "f6a7ec45-f603-4c2d-bc69-cd4aadb2acf9"
   },
   "source": [
    "## Data Inspection <a name='inspect'></a>\n",
    "- How many rows are in the dataset?\n",
    "- How many columns are in this dataset?\n",
    "- What data types are the columns?\n",
    "- Is the data complete? Are there nulls? Do we have to infer values?\n",
    "- What is the definition of these columns?\n",
    "- What are some other caveats to the data?"
   ]
  },
  {
   "cell_type": "code",
   "execution_count": 46,
   "metadata": {
    "code_folding": [],
    "id": "SdN05m2bVzxF"
   },
   "outputs": [
    {
     "data": {
      "text/html": [
       "<div>\n",
       "<style scoped>\n",
       "    .dataframe tbody tr th:only-of-type {\n",
       "        vertical-align: middle;\n",
       "    }\n",
       "\n",
       "    .dataframe tbody tr th {\n",
       "        vertical-align: top;\n",
       "    }\n",
       "\n",
       "    .dataframe thead th {\n",
       "        text-align: right;\n",
       "    }\n",
       "</style>\n",
       "<table border=\"1\" class=\"dataframe\">\n",
       "  <thead>\n",
       "    <tr style=\"text-align: right;\">\n",
       "      <th></th>\n",
       "      <th>Date</th>\n",
       "      <th>GDP</th>\n",
       "      <th>Inflation</th>\n",
       "      <th>Interest rate</th>\n",
       "    </tr>\n",
       "  </thead>\n",
       "  <tbody>\n",
       "    <tr>\n",
       "      <th>0</th>\n",
       "      <td>1963-01-01</td>\n",
       "      <td>3.59786</td>\n",
       "      <td>1.22896</td>\n",
       "      <td>3.892131</td>\n",
       "    </tr>\n",
       "    <tr>\n",
       "      <th>1</th>\n",
       "      <td>1963-04-01</td>\n",
       "      <td>3.82214</td>\n",
       "      <td>1.03684</td>\n",
       "      <td>3.963651</td>\n",
       "    </tr>\n",
       "    <tr>\n",
       "      <th>2</th>\n",
       "      <td>1963-07-01</td>\n",
       "      <td>4.81691</td>\n",
       "      <td>1.36384</td>\n",
       "      <td>4.032031</td>\n",
       "    </tr>\n",
       "    <tr>\n",
       "      <th>3</th>\n",
       "      <td>1963-10-01</td>\n",
       "      <td>5.15826</td>\n",
       "      <td>1.39346</td>\n",
       "      <td>4.118197</td>\n",
       "    </tr>\n",
       "    <tr>\n",
       "      <th>4</th>\n",
       "      <td>1964-01-01</td>\n",
       "      <td>6.21584</td>\n",
       "      <td>1.48748</td>\n",
       "      <td>4.178689</td>\n",
       "    </tr>\n",
       "  </tbody>\n",
       "</table>\n",
       "</div>"
      ],
      "text/plain": [
       "        Date      GDP  Inflation  Interest rate\n",
       "0 1963-01-01  3.59786    1.22896       3.892131\n",
       "1 1963-04-01  3.82214    1.03684       3.963651\n",
       "2 1963-07-01  4.81691    1.36384       4.032031\n",
       "3 1963-10-01  5.15826    1.39346       4.118197\n",
       "4 1964-01-01  6.21584    1.48748       4.178689"
      ]
     },
     "metadata": {},
     "output_type": "display_data"
    }
   ],
   "source": [
    "# look at data\n",
    "display(df.head())"
   ]
  },
  {
   "cell_type": "code",
   "execution_count": 47,
   "metadata": {
    "collapsed": true
   },
   "outputs": [
    {
     "data": {
      "text/plain": [
       "(231, 4)"
      ]
     },
     "metadata": {},
     "output_type": "display_data"
    }
   ],
   "source": [
    "# look a shape of data\n",
    "display(df.shape)"
   ]
  },
  {
   "cell_type": "code",
   "execution_count": 49,
   "metadata": {
    "collapsed": true
   },
   "outputs": [
    {
     "data": {
      "text/plain": [
       "Date             datetime64[ns]\n",
       "GDP                     float64\n",
       "Inflation               float64\n",
       "Interest rate           float64\n",
       "dtype: object"
      ]
     },
     "metadata": {},
     "output_type": "display_data"
    }
   ],
   "source": [
    "# look at data types. Ideally look at all rows. Only look at first five here for minimal output.\n",
    "display(df.iloc[:5,:5].dtypes)"
   ]
  },
  {
   "cell_type": "code",
   "execution_count": 50,
   "metadata": {
    "collapsed": true
   },
   "outputs": [
    {
     "data": {
      "text/plain": [
       "Date             False\n",
       "GDP              False\n",
       "Inflation        False\n",
       "Interest rate    False\n",
       "dtype: bool"
      ]
     },
     "metadata": {},
     "output_type": "display_data"
    }
   ],
   "source": [
    "# see if any columns have nulls. Ideally look at all rows. Only look at first five here for minimal output.\n",
    "display(df.iloc[:5,:5].isnull().any())"
   ]
  },
  {
   "cell_type": "code",
   "execution_count": 51,
   "metadata": {
    "collapsed": true
   },
   "outputs": [
    {
     "data": {
      "text/html": [
       "<div>\n",
       "<style scoped>\n",
       "    .dataframe tbody tr th:only-of-type {\n",
       "        vertical-align: middle;\n",
       "    }\n",
       "\n",
       "    .dataframe tbody tr th {\n",
       "        vertical-align: top;\n",
       "    }\n",
       "\n",
       "    .dataframe thead th {\n",
       "        text-align: right;\n",
       "    }\n",
       "</style>\n",
       "<table border=\"1\" class=\"dataframe\">\n",
       "  <thead>\n",
       "    <tr style=\"text-align: right;\">\n",
       "      <th></th>\n",
       "      <th>GDP</th>\n",
       "      <th>Inflation</th>\n",
       "      <th>Interest rate</th>\n",
       "    </tr>\n",
       "  </thead>\n",
       "  <tbody>\n",
       "    <tr>\n",
       "      <th>count</th>\n",
       "      <td>231.000000</td>\n",
       "      <td>231.000000</td>\n",
       "      <td>231.000000</td>\n",
       "    </tr>\n",
       "    <tr>\n",
       "      <th>mean</th>\n",
       "      <td>2.930650</td>\n",
       "      <td>3.819028</td>\n",
       "      <td>6.089847</td>\n",
       "    </tr>\n",
       "    <tr>\n",
       "      <th>std</th>\n",
       "      <td>2.368456</td>\n",
       "      <td>2.830920</td>\n",
       "      <td>2.948367</td>\n",
       "    </tr>\n",
       "    <tr>\n",
       "      <th>min</th>\n",
       "      <td>-9.032780</td>\n",
       "      <td>-1.606960</td>\n",
       "      <td>0.650625</td>\n",
       "    </tr>\n",
       "    <tr>\n",
       "      <th>25%</th>\n",
       "      <td>1.801315</td>\n",
       "      <td>1.939245</td>\n",
       "      <td>4.075114</td>\n",
       "    </tr>\n",
       "    <tr>\n",
       "      <th>50%</th>\n",
       "      <td>3.067140</td>\n",
       "      <td>3.074670</td>\n",
       "      <td>5.898548</td>\n",
       "    </tr>\n",
       "    <tr>\n",
       "      <th>75%</th>\n",
       "      <td>4.320485</td>\n",
       "      <td>4.625915</td>\n",
       "      <td>7.743110</td>\n",
       "    </tr>\n",
       "    <tr>\n",
       "      <th>85%</th>\n",
       "      <td>4.959095</td>\n",
       "      <td>6.026735</td>\n",
       "      <td>8.786525</td>\n",
       "    </tr>\n",
       "    <tr>\n",
       "      <th>95%</th>\n",
       "      <td>6.333295</td>\n",
       "      <td>10.650595</td>\n",
       "      <td>11.857586</td>\n",
       "    </tr>\n",
       "    <tr>\n",
       "      <th>99%</th>\n",
       "      <td>8.322529</td>\n",
       "      <td>12.847318</td>\n",
       "      <td>14.064324</td>\n",
       "    </tr>\n",
       "    <tr>\n",
       "      <th>max</th>\n",
       "      <td>8.578270</td>\n",
       "      <td>14.425770</td>\n",
       "      <td>14.838437</td>\n",
       "    </tr>\n",
       "  </tbody>\n",
       "</table>\n",
       "</div>"
      ],
      "text/plain": [
       "              GDP   Inflation  Interest rate\n",
       "count  231.000000  231.000000     231.000000\n",
       "mean     2.930650    3.819028       6.089847\n",
       "std      2.368456    2.830920       2.948367\n",
       "min     -9.032780   -1.606960       0.650625\n",
       "25%      1.801315    1.939245       4.075114\n",
       "50%      3.067140    3.074670       5.898548\n",
       "75%      4.320485    4.625915       7.743110\n",
       "85%      4.959095    6.026735       8.786525\n",
       "95%      6.333295   10.650595      11.857586\n",
       "99%      8.322529   12.847318      14.064324\n",
       "max      8.578270   14.425770      14.838437"
      ]
     },
     "metadata": {},
     "output_type": "display_data"
    }
   ],
   "source": [
    "# display descriptive statistics\n",
    "display(df.describe(percentiles=[0.25,0.5,0.75,0.85,0.95,0.99]))"
   ]
  },
  {
   "cell_type": "markdown",
   "metadata": {},
   "source": [
    "### Plot my data <a name='plot'></a>\n",
    "- There does appear to be an overall increasing trend. \n",
    "- There appears to be some differences in the variance over time. \n",
    "- There may be some seasonality (i.e., cycles) in the data.\n",
    "- Not sure about outliers."
   ]
  },
  {
   "cell_type": "markdown",
   "metadata": {},
   "source": [
    "We need to use a plotting package to plot our data. Here we are using Matplotlib to illustrate this. "
   ]
  },
  {
   "cell_type": "code",
   "execution_count": 54,
   "metadata": {},
   "outputs": [],
   "source": [
    "import matplotlib.pyplot as plt"
   ]
  },
  {
   "cell_type": "code",
   "execution_count": 59,
   "metadata": {},
   "outputs": [
    {
     "data": {
      "image/png": "[encoded data removed]",
      "text/plain": [
       "<Figure size 432x288 with 1 Axes>"
      ]
     },
     "metadata": {
      "needs_background": "light"
     },
     "output_type": "display_data"
    }
   ],
   "source": [
    "# Plot time series data\n",
    "f, ax = plt.subplots(1,1)\n",
    "ax.plot(df['Date'], df['GDP'])\n",
    "\n",
    "# Add title\n",
    "ax.set_title('Time-series graph US GDP growth rate')\n",
    "\n",
    "# Rotate x-labels\n",
    "ax.tick_params(axis = 'x', rotation = 0)\n",
    "\n",
    "# Label x-axis\n",
    "ax.set_xlabel('Date')\n",
    "\n",
    "# Label y-axis\n",
    "ax.set_ylabel('GDP growth rate')\n",
    "\n",
    "# Show graph\n",
    "plt.show()\n",
    "plt.close()"
   ]
  },
  {
   "cell_type": "markdown",
   "metadata": {},
   "source": [
    "We can overlay multiple time-series datasets. Note we can also customize the linestyle in ```ax.plot()``` function. You can type ```?plt.plot``` or go to matplotlib webpage to read more. "
   ]
  },
  {
   "cell_type": "code",
   "execution_count": 70,
   "metadata": {},
   "outputs": [
    {
     "data": {
      "image/png": "[encoded data removed]",
      "text/plain": [
       "<Figure size 432x288 with 1 Axes>"
      ]
     },
     "metadata": {
      "needs_background": "light"
     },
     "output_type": "display_data"
    }
   ],
   "source": [
    "# Plot GDP time series data\n",
    "f, ax = plt.subplots(1,1)\n",
    "ax.plot(df['Date'], df['GDP'], lw='2', label = 'GDP')\n",
    "\n",
    "# Plot inflation time series data\n",
    "ax.plot(df['Date'], df['Inflation'], marker = '+', ls= '--', c='indianred', label='Inflation')\n",
    "\n",
    "# Add title\n",
    "ax.set_title('Time-series graph US GDP growth rate')\n",
    "\n",
    "# Rotate x-labels\n",
    "ax.tick_params(axis = 'x', rotation = 0)\n",
    "\n",
    "# Label x-axis\n",
    "ax.set_xlabel('Date')\n",
    "\n",
    "# Label y-axis\n",
    "ax.set_ylabel('Percent')\n",
    "\n",
    "# Show legend\n",
    "ax.legend()\n",
    "\n",
    "# Show graph\n",
    "plt.show()\n",
    "plt.close()"
   ]
  },
  {
   "cell_type": "markdown",
   "metadata": {},
   "source": [
    "## Exercise\n",
    "Plot interest rate time series. You can also customize the style of plot to your taste. You can also try to show individual data points as well. \n",
    "\n",
    "If you're up for a challenge, try iteratively plot GDP, inflation and interest rate altogher!"
   ]
  },
  {
   "cell_type": "code",
   "execution_count": null,
   "metadata": {},
   "outputs": [],
   "source": []
  }
 ],
 "metadata": {
  "colab": {
   "collapsed_sections": [],
   "name": "forecasting.ipynb",
   "provenance": []
  },
  "kernelspec": {
   "display_name": "Python 3",
   "language": "python",
   "name": "python3"
  },
  "language_info": {
   "codemirror_mode": {
    "name": "ipython",
    "version": 3
   },
   "file_extension": ".py",
   "mimetype": "text/x-python",
   "name": "python",
   "nbconvert_exporter": "python",
   "pygments_lexer": "ipython3",
   "version": "3.7.6"
  },
  "varInspector": {
   "cols": {
    "lenName": 16,
    "lenType": 16,
    "lenVar": 40
   },
   "kernels_config": {
    "python": {
     "delete_cmd_postfix": "",
     "delete_cmd_prefix": "del ",
     "library": "var_list.py",
     "varRefreshCmd": "print(var_dic_list())"
    },
    "r": {
     "delete_cmd_postfix": ") ",
     "delete_cmd_prefix": "rm(",
     "library": "var_list.r",
     "varRefreshCmd": "cat(var_dic_list()) "
    }
   },
   "types_to_exclude": [
    "module",
    "function",
    "builtin_function_or_method",
    "instance",
    "_Feature"
   ],
   "window_display": false
  }
 },
 "nbformat": 4,
 "nbformat_minor": 1
}
