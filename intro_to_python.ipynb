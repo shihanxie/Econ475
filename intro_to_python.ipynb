{
 "cells": [
  {
   "cell_type": "markdown",
   "metadata": {
    "id": "o65ywttbPPHr"
   },
   "source": [
    "# Table of Contents\n"
   ]
  },
  {
   "cell_type": "markdown",
   "metadata": {
    "id": "HTCzc2SjSuzl"
   },
   "source": [
    "## Setup\n",
    "<a href=#numpy&list>Numpy and lists</a>\n",
    "\n",
    "<a href=#iteration>Iteration</a>\n",
    "\n",
    "<a href=#pandas>Importing data with Pandas</a>\n",
    "\n",
    "<a href=#inspect>Data inspection</a>\n",
    "\n",
    "<a href=#plot>Data plotting</a>\n",
    "\n",
    "<a href=#regression>OLS Regression</a>"
   ]
  },
  {
   "cell_type": "markdown",
   "metadata": {
    "id": "qcmpD2ulOxsM"
   },
   "source": [
    "# Setup"
   ]
  },
  {
   "cell_type": "markdown",
   "metadata": {
    "id": "Y1VO743WQqAS"
   },
   "source": [
    "Welcome to Econ 475 (Economic forecasting). In this course, we will be using Python to learn basic plotting, regression analysis, and forecasting techniques. \n",
    "\n",
    "Google Colab is a free web-based interactive Python platform based off of Jupyter Notebook, and implements many commonly used Python packages. Nothing is required for local installation and you can save a copy of this file to your Google Drive and starting working your way through this tutorial. \n",
    "\n",
    "We will start with the basics assuming no background in coding or Python specifically.\n",
    "\n",
    "Python comes with built-in functions that you can call arguments in the following way:\n",
    "\n",
    "```\n",
    "function(arg1, arg2, arg3...)\n",
    "```\n",
    "where ```function``` is the name of the function calling, ```arg1```, ```arg2``` and ```arg3``` are provided to the function. Depending on the design of the function, it can take no argument or many. \n"
   ]
  },
  {
   "cell_type": "code",
   "execution_count": null,
   "metadata": {
    "colab": {
     "base_uri": "https://localhost:8080/"
    },
    "id": "MHppf9-sO29u",
    "outputId": "57285ed8-8b91-438d-a88c-791da437978e"
   },
   "outputs": [],
   "source": [
    "print(\"Hello world!\")"
   ]
  },
  {
   "cell_type": "markdown",
   "metadata": {
    "id": "5QyOUhFw1OUX"
   },
   "source": [
    "## Numpy and lists<a name='numpy&list'></a>\n",
    "Python has lists built into the language.\n",
    "However, we will use a library called numpy for this.\n",
    "Numpy gives you lots of support functions that are useful in our course. \n",
    "\n",
    "Here, you will also see an import statement. This statement makes the entire numpy package available and we can access those symbols using the abbreviated 'np' syntax."
   ]
  },
  {
   "cell_type": "code",
   "execution_count": null,
   "metadata": {
    "colab": {
     "base_uri": "https://localhost:8080/"
    },
    "id": "4Dxk4q-jzEy4",
    "outputId": "fffcc89b-a015-40a6-932e-a699af454fa2"
   },
   "outputs": [],
   "source": [
    "import numpy as np  # Make numpy available using np.\n",
    "\n",
    "# Create a numpy array, and append an element\n",
    "a = np.array([\"Hello\", \"World\"])\n",
    "a = np.append(a, \"!\")\n",
    "print(\"Current array: {}\".format(a))\n",
    "print(\"Printing each element\")\n",
    "for i in a:\n",
    "    print(i)\n",
    "\n",
    "print(\"\\nPrinting each element and their index\")\n",
    "for i,e in enumerate(a):\n",
    "    print(\"Index: {}, was: {}\".format(i, e))"
   ]
  },
  {
   "cell_type": "code",
   "execution_count": null,
   "metadata": {
    "id": "RTa8_9G3LV03"
   },
   "outputs": [],
   "source": [
    "print(\"\\nShowing some basic math on arrays\")\n",
    "b = np.array([0,1,4,3,2])\n",
    "print(\"Max: {}\".format(np.max(b)))\n",
    "print(\"Average: {}\".format(np.average(b)))\n",
    "print(\"Max index: {}\".format(np.argmax(b)))"
   ]
  },
  {
   "cell_type": "code",
   "execution_count": null,
   "metadata": {
    "id": "9YaGj5n4LW7P"
   },
   "outputs": [],
   "source": [
    "print(\"\\nYou can print the type of anything\")\n",
    "print(\"Type of b: {}, type of b[0]: {}\".format(type(b), type(b[0])))"
   ]
  },
  {
   "cell_type": "code",
   "execution_count": null,
   "metadata": {
    "id": "V6ilVhi9LXn_"
   },
   "outputs": [],
   "source": [
    "print(\"\\nUse numpy to create a [3,3] dimension array with random number\")\n",
    "c = np.random.rand(3, 3)\n",
    "print(c)"
   ]
  },
  {
   "cell_type": "code",
   "execution_count": null,
   "metadata": {
    "id": "W_Q-DkFCLYGA"
   },
   "outputs": [],
   "source": [
    "print(\"\\nYou can print the dimensions of arrays\")\n",
    "print(\"Shape of a: {}\".format(a.shape))\n",
    "print(\"Shape of b: {}\".format(b.shape))\n",
    "print(\"Shape of c: {}\".format(c.shape))\n",
    "print(\"...Observe, Python uses both [0,1,2] and (0,1,2) to specify lists\")"
   ]
  },
  {
   "cell_type": "markdown",
   "metadata": {
    "id": "n55KX6xDSQnq"
   },
   "source": [
    "## Iteration <a name='iteration'></a>"
   ]
  },
  {
   "cell_type": "markdown",
   "metadata": {
    "id": "kiZG7uhm8qCF"
   },
   "source": [
    "If you want a loop starting at 0 to 2 (exclusive) you could do any of the following"
   ]
  },
  {
   "cell_type": "code",
   "execution_count": null,
   "metadata": {
    "id": "m8YQN1H41L-Y"
   },
   "outputs": [],
   "source": [
    "print(\"Iterate over the items. `range(2)` is like a list [0,1].\")\n",
    "for i in range(2):\n",
    "    print(i)\n",
    "\n",
    "print(\"Iterate over an actual list.\")\n",
    "for i in [0,1]:\n",
    "      print(i)\n",
    "\n",
    "print(\"While works\")\n",
    "i = 0\n",
    "while i < 2:\n",
    "    print(i)\n",
    "    i += 1"
   ]
  },
  {
   "cell_type": "code",
   "execution_count": null,
   "metadata": {
    "id": "vIgmFZq4zszl"
   },
   "outputs": [],
   "source": [
    "print(\"Python supports standard key words like continue and break\")\n",
    "while True:\n",
    "    print(\"Entered while\")\n",
    "    break"
   ]
  },
  {
   "cell_type": "markdown",
   "metadata": {
    "id": "hIS-Qq_xTIwp"
   },
   "source": [
    "## Importing/Exporting Data with Pandas<a name='pandas'></a>"
   ]
  },
  {
   "cell_type": "markdown",
   "metadata": {
    "id": "oPDtinwVTOJB"
   },
   "source": [
    "Pandas is a popular Python package that provides fast, powerful, flexible and easy to use open source data analysis and manipulation tool.\n",
    "\n",
    "In the following sections, we will demonstrate how to import and export data from/to Microsoft Excel Spreadsheet and comma-seperated value (CSV) file. This is usually the first step in data analysis."
   ]
  },
  {
   "cell_type": "code",
   "execution_count": null,
   "metadata": {
    "id": "nyDOo_lNT1Rh"
   },
   "outputs": [],
   "source": [
    "import pandas as pd"
   ]
  },
  {
   "cell_type": "markdown",
   "metadata": {},
   "source": [
    "Data is read into a DataFrame object using Pandas for easy manipulation. Let's call it ```df```."
   ]
  },
  {
   "cell_type": "code",
   "execution_count": null,
   "metadata": {
    "colab": {
     "base_uri": "https://localhost:8080/",
     "height": 307
    },
    "id": "Fbo7pZDNT4er",
    "outputId": "f993a416-efed-422a-fe27-fd94c3df2414"
   },
   "outputs": [],
   "source": [
    "df = pd.read_excel(\"https://github.com/shihanxie/Econ475/blob/main/data/intro.xlsx?raw=true\")"
   ]
  },
  {
   "cell_type": "markdown",
   "metadata": {
    "colab": {
     "base_uri": "https://localhost:8080/",
     "height": 35
    },
    "id": "1m6bb3ZTVx7_",
    "outputId": "f6a7ec45-f603-4c2d-bc69-cd4aadb2acf9"
   },
   "source": [
    "## Data Inspection <a name='inspect'></a>\n",
    "- How many rows are in the dataset?\n",
    "- How many columns are in this dataset?\n",
    "- What data types are the columns?\n",
    "- Is the data complete? Are there nulls? Do we have to infer values?\n",
    "- What is the definition of these columns?\n",
    "- What are some other caveats to the data?"
   ]
  },
  {
   "cell_type": "code",
   "execution_count": null,
   "metadata": {
    "code_folding": [],
    "id": "SdN05m2bVzxF"
   },
   "outputs": [],
   "source": [
    "# look at data\n",
    "display(df.head())"
   ]
  },
  {
   "cell_type": "code",
   "execution_count": null,
   "metadata": {},
   "outputs": [],
   "source": [
    "# look a shape of data\n",
    "display(df.shape)"
   ]
  },
  {
   "cell_type": "code",
   "execution_count": null,
   "metadata": {},
   "outputs": [],
   "source": [
    "# look at data types. Ideally look at all rows. Only look at first five here for minimal output.\n",
    "display(df.iloc[:5,:5].dtypes)"
   ]
  },
  {
   "cell_type": "code",
   "execution_count": null,
   "metadata": {},
   "outputs": [],
   "source": [
    "# see if any columns have nulls. Ideally look at all rows. Only look at first five here for minimal output.\n",
    "display(df.iloc[:5,:5].isnull().any())"
   ]
  },
  {
   "cell_type": "code",
   "execution_count": null,
   "metadata": {},
   "outputs": [],
   "source": [
    "# display descriptive statistics\n",
    "display(df.describe(percentiles=[0.25,0.5,0.75,0.85,0.95,0.99]))"
   ]
  },
  {
   "cell_type": "markdown",
   "metadata": {},
   "source": [
    "## Plot my data <a name='plot'></a>\n",
    "- There does appear to be an overall increasing trend. \n",
    "- There appears to be some differences in the variance over time. \n",
    "- There may be some seasonality (i.e., cycles) in the data.\n",
    "- Not sure about outliers."
   ]
  },
  {
   "cell_type": "markdown",
   "metadata": {},
   "source": [
    "We need to use a plotting package to plot our data. Here we are using ```matplotlib``` to illustrate this. "
   ]
  },
  {
   "cell_type": "code",
   "execution_count": null,
   "metadata": {},
   "outputs": [],
   "source": [
    "import matplotlib.pyplot as plt"
   ]
  },
  {
   "cell_type": "code",
   "execution_count": null,
   "metadata": {},
   "outputs": [],
   "source": [
    "# Plot time series data\n",
    "f, ax = plt.subplots(1,1)\n",
    "ax.plot(df['Date'], df['GDP'])\n",
    "\n",
    "# Add title\n",
    "ax.set_title('Time-series graph US GDP growth rate')\n",
    "\n",
    "# Rotate x-labels\n",
    "ax.tick_params(axis = 'x', rotation = 0)\n",
    "\n",
    "# Label x-axis\n",
    "ax.set_xlabel('Date')\n",
    "\n",
    "# Label y-axis\n",
    "ax.set_ylabel('GDP growth rate')\n",
    "\n",
    "# Show graph\n",
    "plt.show()\n",
    "plt.close()"
   ]
  },
  {
   "cell_type": "markdown",
   "metadata": {},
   "source": [
    "We can overlay multiple time-series datasets. Note we can also customize the linestyle in ```ax.plot()``` function. You can type ```?plt.plot``` or go to matplotlib webpage to read more. "
   ]
  },
  {
   "cell_type": "code",
   "execution_count": null,
   "metadata": {},
   "outputs": [],
   "source": [
    "# Plot GDP time series data\n",
    "f, ax = plt.subplots(1,1)\n",
    "ax.plot(df['Date'], df['GDP'], lw='2', label = 'GDP')\n",
    "\n",
    "# Plot inflation time series data\n",
    "ax.plot(df['Date'], df['Inflation'], marker = '+', ls= '--', c='indianred', label='Inflation')\n",
    "\n",
    "# Add title\n",
    "ax.set_title('Time-series graph US GDP growth rate')\n",
    "\n",
    "# Rotate x-labels\n",
    "ax.tick_params(axis = 'x', rotation = 0)\n",
    "\n",
    "# Label x-axis\n",
    "ax.set_xlabel('Date')\n",
    "\n",
    "# Label y-axis\n",
    "ax.set_ylabel('Percent')\n",
    "\n",
    "# Show legend\n",
    "ax.legend()\n",
    "\n",
    "# Show graph\n",
    "plt.show()\n",
    "plt.close()"
   ]
  },
  {
   "cell_type": "markdown",
   "metadata": {},
   "source": [
    "### Exercise\n",
    "Plot interest rate time series. You can also customize the style of plot to your taste. You can also try to show individual data points as well. \n",
    "\n",
    "If you're up for a challenge, try iteratively plot GDP, inflation and interest rate altogher!"
   ]
  },
  {
   "cell_type": "code",
   "execution_count": null,
   "metadata": {},
   "outputs": [],
   "source": []
  },
  {
   "cell_type": "markdown",
   "metadata": {},
   "source": [
    "### Histograms and Scatter plots\n",
    "- We start by generating a sample of 100 observations of ```(y,x)``` such that ```y = 10 + 1.5x + u``` and ```u ~ N(0,2)```\n",
    "- Histogram displays the sample distribution of our data\n",
    "- Scatter plot displays the relationship between two variables"
   ]
  },
  {
   "cell_type": "code",
   "execution_count": null,
   "metadata": {},
   "outputs": [],
   "source": [
    "import numpy as np\n",
    "import matplotlib.pyplot as plt\n",
    "\n",
    "# generate sample\n",
    "np.random.seed(1) # by setting the seed we will generate the same sample in every trial\n",
    "x = np.random.uniform(-3,4,100)\n",
    "u = 2*np.random.randn(100)\n",
    "y = 10 + 1.5*x + u\n",
    "\n",
    "# plot histogram\n",
    "plt.hist(u)"
   ]
  },
  {
   "cell_type": "code",
   "execution_count": null,
   "metadata": {},
   "outputs": [],
   "source": [
    "# scatter plot\n",
    "plt.figure(figsize=(8,6))\n",
    "plt.plot(x,y,'+')\n",
    "plt.ylabel(\"y\")\n",
    "plt.xlabel(\"x\")\n",
    "plt.title('Scatter plot of y versus x')\n",
    "\n",
    "plt.savefig('reg_scatter.pdf')"
   ]
  },
  {
   "cell_type": "markdown",
   "metadata": {},
   "source": [
    "## OLS Regression <a name='regression'></a>\n",
    "- Suppose that we have data on three random variables ```x```, ```y``` and ```z``` and we are interested in forecasting ```y``` based on ```x``` and ```z```\n",
    "- We want to find a linear function that best fits the data points, which can be achived by minimizing the squared errors between the data points and the fitted values by the linear function\n",
    "- This strategy is called ordinary least squares (OLS). We often say we run a regression, run OLS, or fit a regression line.\n",
    "- In the following example, we start by generating a sample of 100 observations of ```(y,x,z)``` such that ```y = 10 + 2x - 0.6z + u``` and ```u ~ N(0,2)```"
   ]
  },
  {
   "cell_type": "code",
   "execution_count": null,
   "metadata": {},
   "outputs": [],
   "source": [
    "np.random.seed(1)\n",
    "x = 1 + 4*np.random.randn(100)\n",
    "z = -2 + 3*np.random.randn(100)\n",
    "u = 2*np.random.randn(100)\n",
    "y = 10 + 2*x - 1.6*z + 2*u"
   ]
  },
  {
   "cell_type": "markdown",
   "metadata": {},
   "source": [
    "- We need to use a statistical package to run OLS. Here we are using ```statsmodels``` to illustrate this."
   ]
  },
  {
   "cell_type": "code",
   "execution_count": null,
   "metadata": {},
   "outputs": [],
   "source": [
    "import statsmodels.api as sm\n",
    "from statsmodels.tools.tools import add_constant"
   ]
  },
  {
   "cell_type": "code",
   "execution_count": null,
   "metadata": {},
   "outputs": [],
   "source": [
    "x_reg = add_constant(np.array([x,z]).T,prepend=True)\n",
    "result=sm.OLS(y,x_reg).fit()\n",
    "result.model.data.xnames=['C','x','z']\n",
    "print(result.summary())"
   ]
  },
  {
   "cell_type": "markdown",
   "metadata": {},
   "source": [
    "### Exercise\n",
    "- Generating a sample of 200 observations of ```(y,x,z)``` such that ```y = 5 + 3x - 2z + u``` and ```u ~ N(0,1)```\n",
    "- Regress ```y``` on ```x```, ```z``` and a constant "
   ]
  },
  {
   "cell_type": "code",
   "execution_count": null,
   "metadata": {},
   "outputs": [],
   "source": []
  }
 ],
 "metadata": {
  "colab": {
   "collapsed_sections": [],
   "name": "forecasting.ipynb",
   "provenance": []
  },
  "kernelspec": {
   "display_name": "Python 3",
   "language": "python",
   "name": "python3"
  },
  "language_info": {
   "codemirror_mode": {
    "name": "ipython",
    "version": 3
   },
   "file_extension": ".py",
   "mimetype": "text/x-python",
   "name": "python",
   "nbconvert_exporter": "python",
   "pygments_lexer": "ipython3",
   "version": "3.7.6"
  },
  "varInspector": {
   "cols": {
    "lenName": 16,
    "lenType": 16,
    "lenVar": 40
   },
   "kernels_config": {
    "python": {
     "delete_cmd_postfix": "",
     "delete_cmd_prefix": "del ",
     "library": "var_list.py",
     "varRefreshCmd": "print(var_dic_list())"
    },
    "r": {
     "delete_cmd_postfix": ") ",
     "delete_cmd_prefix": "rm(",
     "library": "var_list.r",
     "varRefreshCmd": "cat(var_dic_list()) "
    }
   },
   "types_to_exclude": [
    "module",
    "function",
    "builtin_function_or_method",
    "instance",
    "_Feature"
   ],
   "window_display": false
  }
 },
 "nbformat": 4,
 "nbformat_minor": 4
}
