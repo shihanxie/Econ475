{
  "nbformat": 4,
  "nbformat_minor": 0,
  "metadata": {
    "colab": {
      "name": "0.forecasting.ipynb",
      "provenance": [],
      "collapsed_sections": [],
      "include_colab_link": true
    },
    "kernelspec": {
      "display_name": "Python 3",
      "language": "python",
      "name": "python3"
    },
    "language_info": {
      "codemirror_mode": {
        "name": "ipython",
        "version": 3
      },
      "file_extension": ".py",
      "mimetype": "text/x-python",
      "name": "python",
      "nbconvert_exporter": "python",
      "pygments_lexer": "ipython3",
      "version": "3.8.5"
    },
    "varInspector": {
      "cols": {
        "lenName": 16,
        "lenType": 16,
        "lenVar": 40
      },
      "kernels_config": {
        "python": {
          "delete_cmd_postfix": "",
          "delete_cmd_prefix": "del ",
          "library": "var_list.py",
          "varRefreshCmd": "print(var_dic_list())"
        },
        "r": {
          "delete_cmd_postfix": ") ",
          "delete_cmd_prefix": "rm(",
          "library": "var_list.r",
          "varRefreshCmd": "cat(var_dic_list()) "
        }
      },
      "types_to_exclude": [
        "module",
        "function",
        "builtin_function_or_method",
        "instance",
        "_Feature"
      ],
      "window_display": false
    }
  },
  "cells": [
    {
      "cell_type": "markdown",
      "metadata": {
        "id": "view-in-github",
        "colab_type": "text"
      },
      "source": [
        "<a href=\"https://colab.research.google.com/github/shihanxie/Econ475/blob/main/Intro_to_Python.ipynb\" target=\"_parent\"><img src=\"https://colab.research.google.com/assets/colab-badge.svg\" alt=\"Open In Colab\"/></a>"
      ]
    },
    {
      "cell_type": "markdown",
      "metadata": {
        "id": "o65ywttbPPHr"
      },
      "source": [
        "# Table of Contents\n"
      ]
    },
    {
      "cell_type": "markdown",
      "metadata": {
        "id": "HTCzc2SjSuzl"
      },
      "source": [
        "## Setup\n",
        "<a href=#numpy&list>Numpy and lists</a>\n",
        "\n",
        "<a href=#iteration>Iteration</a>\n",
        "\n",
        "<a href=#pandas>Importing data with Pandas</a>\n",
        "\n",
        "<a href=#inspect>Data inspection</a>\n",
        "\n",
        "<a href=#plot>Data plotting</a>\n",
        "\n",
        "<a href=#regression>OLS Regression</a>"
      ]
    },
    {
      "cell_type": "markdown",
      "metadata": {
        "id": "qcmpD2ulOxsM"
      },
      "source": [
        "# Setup"
      ]
    },
    {
      "cell_type": "markdown",
      "metadata": {
        "id": "Y1VO743WQqAS"
      },
      "source": [
        "Welcome to Econ 475 (Economic forecasting). In this course, we will be using Python to learn basic plotting, regression analysis, and forecasting techniques. \n",
        "\n",
        "Google Colab is a free web-based interactive Python platform based off of Jupyter Notebook, and implements many commonly used Python packages. Nothing is required for local installation and you can save a copy of this file to your Google Drive and starting working your way through this tutorial. \n",
        "\n",
        "We will start with the basics assuming no background in coding or Python specifically.\n",
        "\n",
        "Python comes with built-in functions that you can call arguments in the following way:\n",
        "\n",
        "```\n",
        "function(arg1, arg2, arg3...)\n",
        "```\n",
        "where ```function``` is the name of the function calling, ```arg1```, ```arg2``` and ```arg3``` are provided to the function. Depending on the design of the function, it can take no argument or many. \n"
      ]
    },
    {
      "cell_type": "code",
      "metadata": {
        "id": "MHppf9-sO29u",
        "colab": {
          "base_uri": "https://localhost:8080/"
        },
        "outputId": "413db0e5-51a5-4845-df46-4b4a6d3c7aec"
      },
      "source": [
        "print(\"Hello world!\")"
      ],
      "execution_count": null,
      "outputs": [
        {
          "output_type": "stream",
          "name": "stdout",
          "text": [
            "Hello world!\n"
          ]
        }
      ]
    },
    {
      "cell_type": "markdown",
      "metadata": {
        "id": "5QyOUhFw1OUX"
      },
      "source": [
        "## Numpy and lists<a name='numpy&list'></a>\n",
        "Python has lists built into the language.\n",
        "However, we will use a library called numpy for this.\n",
        "Numpy gives you lots of support functions that are useful in our course. \n",
        "\n",
        "Here, you will also see an import statement. This statement makes the entire numpy package available and we can access those symbols using the abbreviated 'np' syntax."
      ]
    },
    {
      "cell_type": "code",
      "metadata": {
        "id": "4Dxk4q-jzEy4",
        "colab": {
          "base_uri": "https://localhost:8080/"
        },
        "outputId": "d697521f-b90e-4437-ca12-2b8fc534b60a"
      },
      "source": [
        "import numpy as np  # Make numpy available using np.\n",
        "\n",
        "# Create a numpy array, and append an element\n",
        "a = np.array([\"Hello\", \"World\"])\n",
        "a = np.append(a, \"!\")\n",
        "print(\"Current array: {}\".format(a))\n",
        "print(\"Printing each element\")\n",
        "for i in a:\n",
        "    print(i)\n",
        "\n",
        "print(\"\\nPrinting each element and their index\")\n",
        "for i,e in enumerate(a):\n",
        "    print(\"Index: {}, was: {}\".format(i, e))"
      ],
      "execution_count": null,
      "outputs": [
        {
          "output_type": "stream",
          "name": "stdout",
          "text": [
            "Current array: ['Hello' 'World' '!']\n",
            "Printing each element\n",
            "Hello\n",
            "World\n",
            "!\n",
            "\n",
            "Printing each element and their index\n",
            "Index: 0, was: Hello\n",
            "Index: 1, was: World\n",
            "Index: 2, was: !\n"
          ]
        }
      ]
    },
    {
      "cell_type": "code",
      "metadata": {
        "id": "RTa8_9G3LV03",
        "colab": {
          "base_uri": "https://localhost:8080/"
        },
        "outputId": "2bb8804a-a199-48cf-b97e-50516a0b31fd"
      },
      "source": [
        "print(\"Showing some basic math on arrays\")\n",
        "b = np.array([0,1,4,3,2])\n",
        "print(\"Max: {}\".format(np.max(b)))\n",
        "print(\"Average: {}\".format(np.average(b)))\n",
        "print(\"Max index: {}\".format(np.argmax(b)))"
      ],
      "execution_count": null,
      "outputs": [
        {
          "output_type": "stream",
          "name": "stdout",
          "text": [
            "Showing some basic math on arrays\n",
            "Max: 4\n",
            "Average: 2.0\n",
            "Max index: 2\n"
          ]
        }
      ]
    },
    {
      "cell_type": "code",
      "metadata": {
        "id": "9YaGj5n4LW7P",
        "colab": {
          "base_uri": "https://localhost:8080/"
        },
        "outputId": "75b7d52d-023c-45e8-d41a-dbd4a1c7535a"
      },
      "source": [
        "print(\"You can print the type of anything\")\n",
        "print(\"Type of b: {}, type of b[0]: {}\".format(type(b), type(b[0])))"
      ],
      "execution_count": null,
      "outputs": [
        {
          "output_type": "stream",
          "name": "stdout",
          "text": [
            "You can print the type of anything\n",
            "Type of b: <class 'numpy.ndarray'>, type of b[0]: <class 'numpy.int64'>\n"
          ]
        }
      ]
    },
    {
      "cell_type": "code",
      "metadata": {
        "id": "V6ilVhi9LXn_",
        "colab": {
          "base_uri": "https://localhost:8080/"
        },
        "outputId": "c318fa57-983a-4d4a-fda0-c50fff0538c2"
      },
      "source": [
        "print(\"Use numpy to create a [3,3] dimension array with random number\")\n",
        "c = np.random.rand(3, 3)\n",
        "print(c)"
      ],
      "execution_count": null,
      "outputs": [
        {
          "output_type": "stream",
          "name": "stdout",
          "text": [
            "Use numpy to create a [3,3] dimension array with random number\n",
            "[[0.88240503 0.36016245 0.39831008]\n",
            " [0.85898581 0.50480363 0.84981733]\n",
            " [0.14232914 0.16707367 0.10145081]]\n"
          ]
        }
      ]
    },
    {
      "cell_type": "code",
      "metadata": {
        "id": "W_Q-DkFCLYGA",
        "colab": {
          "base_uri": "https://localhost:8080/"
        },
        "outputId": "f85d53ec-ae6e-4da6-cfd0-3aaf882400d9"
      },
      "source": [
        "print(\"You can print the dimensions of arrays\")\n",
        "print(\"Shape of a: {}\".format(a.shape))\n",
        "print(\"Shape of b: {}\".format(b.shape))\n",
        "print(\"Shape of c: {}\".format(c.shape))\n",
        "print(\"...Observe, Python uses both [0,1,2] and (0,1,2) to specify lists\")"
      ],
      "execution_count": null,
      "outputs": [
        {
          "output_type": "stream",
          "name": "stdout",
          "text": [
            "You can print the dimensions of arrays\n",
            "Shape of a: (3,)\n",
            "Shape of b: (5,)\n",
            "Shape of c: (3, 3)\n",
            "...Observe, Python uses both [0,1,2] and (0,1,2) to specify lists\n"
          ]
        }
      ]
    },
    {
      "cell_type": "markdown",
      "metadata": {
        "id": "n55KX6xDSQnq"
      },
      "source": [
        "## Iteration <a name='iteration'></a>"
      ]
    },
    {
      "cell_type": "markdown",
      "metadata": {
        "id": "kiZG7uhm8qCF"
      },
      "source": [
        "If you want a loop starting at 0 to 2 (exclusive) you could do any of the following"
      ]
    },
    {
      "cell_type": "code",
      "metadata": {
        "id": "m8YQN1H41L-Y",
        "colab": {
          "base_uri": "https://localhost:8080/"
        },
        "outputId": "63851daa-087b-491a-d8ef-07dac17601d5"
      },
      "source": [
        "print(\"Iterate over the items. `range(2)` is like a list [0,1].\")\n",
        "for i in range(2):\n",
        "    print(i)\n",
        "\n",
        "print(\"Iterate over an actual list.\")\n",
        "for i in [0,1]:\n",
        "      print(i)\n",
        "\n",
        "print(\"While works\")\n",
        "i = 0\n",
        "while i < 2:\n",
        "    print(i)\n",
        "    i += 1"
      ],
      "execution_count": null,
      "outputs": [
        {
          "output_type": "stream",
          "name": "stdout",
          "text": [
            "Iterate over the items. `range(2)` is like a list [0,1].\n",
            "0\n",
            "1\n",
            "Iterate over an actual list.\n",
            "0\n",
            "1\n",
            "While works\n",
            "0\n",
            "1\n"
          ]
        }
      ]
    },
    {
      "cell_type": "code",
      "metadata": {
        "id": "vIgmFZq4zszl",
        "colab": {
          "base_uri": "https://localhost:8080/"
        },
        "outputId": "af24649d-0bcb-40c0-f87c-37fbc5c432e6"
      },
      "source": [
        "print(\"Python supports standard key words like continue and break\")\n",
        "while True:\n",
        "    print(\"Entered while\")\n",
        "    break"
      ],
      "execution_count": null,
      "outputs": [
        {
          "output_type": "stream",
          "name": "stdout",
          "text": [
            "Python supports standard key words like continue and break\n",
            "Entered while\n"
          ]
        }
      ]
    },
    {
      "cell_type": "markdown",
      "metadata": {
        "id": "hIS-Qq_xTIwp"
      },
      "source": [
        "## Importing/Exporting Data with Pandas<a name='pandas'></a>"
      ]
    },
    {
      "cell_type": "markdown",
      "metadata": {
        "id": "oPDtinwVTOJB"
      },
      "source": [
        "Pandas is a popular Python package that provides fast, powerful, flexible and easy to use open source data analysis and manipulation tool.\n",
        "\n",
        "In the following sections, we will demonstrate how to import and export data from/to Microsoft Excel Spreadsheet and comma-seperated value (CSV) file. This is usually the first step in data analysis."
      ]
    },
    {
      "cell_type": "code",
      "metadata": {
        "id": "nyDOo_lNT1Rh"
      },
      "source": [
        "import pandas as pd"
      ],
      "execution_count": null,
      "outputs": []
    },
    {
      "cell_type": "markdown",
      "metadata": {
        "id": "ZWcgXDK_KW0b"
      },
      "source": [
        "Data is read into a DataFrame object using Pandas for easy manipulation. Let's call it ```df```."
      ]
    },
    {
      "cell_type": "code",
      "metadata": {
        "id": "Fbo7pZDNT4er"
      },
      "source": [
        "df = pd.read_excel(\"https://github.com/shihanxie/Econ475/blob/main/data/intro.xlsx?raw=true\")"
      ],
      "execution_count": null,
      "outputs": []
    },
    {
      "cell_type": "markdown",
      "metadata": {
        "id": "1m6bb3ZTVx7_",
        "outputId": "f6a7ec45-f603-4c2d-bc69-cd4aadb2acf9"
      },
      "source": [
        "## Data Inspection <a name='inspect'></a>\n",
        "- How many rows are in the dataset?\n",
        "- How many columns are in this dataset?\n",
        "- What data types are the columns?\n",
        "- Is the data complete? Are there nulls? Do we have to infer values?\n",
        "- What is the definition of these columns?\n",
        "- What are some other caveats to the data?"
      ]
    },
    {
      "cell_type": "code",
      "metadata": {
        "code_folding": [],
        "id": "SdN05m2bVzxF",
        "colab": {
          "base_uri": "https://localhost:8080/",
          "height": 204
        },
        "outputId": "738fbfe1-b3d1-4f3f-8024-8a19e42b3abf"
      },
      "source": [
        "# look at data\n",
        "display(df.head())"
      ],
      "execution_count": null,
      "outputs": [
        {
          "output_type": "display_data",
          "data": {
            "text/html": [
              "<div>\n",
              "<style scoped>\n",
              "    .dataframe tbody tr th:only-of-type {\n",
              "        vertical-align: middle;\n",
              "    }\n",
              "\n",
              "    .dataframe tbody tr th {\n",
              "        vertical-align: top;\n",
              "    }\n",
              "\n",
              "    .dataframe thead th {\n",
              "        text-align: right;\n",
              "    }\n",
              "</style>\n",
              "<table border=\"1\" class=\"dataframe\">\n",
              "  <thead>\n",
              "    <tr style=\"text-align: right;\">\n",
              "      <th></th>\n",
              "      <th>Date</th>\n",
              "      <th>GDP</th>\n",
              "      <th>Inflation</th>\n",
              "      <th>Interest rate</th>\n",
              "    </tr>\n",
              "  </thead>\n",
              "  <tbody>\n",
              "    <tr>\n",
              "      <th>0</th>\n",
              "      <td>1963-01-01</td>\n",
              "      <td>3.59786</td>\n",
              "      <td>1.22896</td>\n",
              "      <td>3.892131</td>\n",
              "    </tr>\n",
              "    <tr>\n",
              "      <th>1</th>\n",
              "      <td>1963-04-01</td>\n",
              "      <td>3.82214</td>\n",
              "      <td>1.03684</td>\n",
              "      <td>3.963651</td>\n",
              "    </tr>\n",
              "    <tr>\n",
              "      <th>2</th>\n",
              "      <td>1963-07-01</td>\n",
              "      <td>4.81691</td>\n",
              "      <td>1.36384</td>\n",
              "      <td>4.032031</td>\n",
              "    </tr>\n",
              "    <tr>\n",
              "      <th>3</th>\n",
              "      <td>1963-10-01</td>\n",
              "      <td>5.15826</td>\n",
              "      <td>1.39346</td>\n",
              "      <td>4.118197</td>\n",
              "    </tr>\n",
              "    <tr>\n",
              "      <th>4</th>\n",
              "      <td>1964-01-01</td>\n",
              "      <td>6.21584</td>\n",
              "      <td>1.48748</td>\n",
              "      <td>4.178689</td>\n",
              "    </tr>\n",
              "  </tbody>\n",
              "</table>\n",
              "</div>"
            ],
            "text/plain": [
              "        Date      GDP  Inflation  Interest rate\n",
              "0 1963-01-01  3.59786    1.22896       3.892131\n",
              "1 1963-04-01  3.82214    1.03684       3.963651\n",
              "2 1963-07-01  4.81691    1.36384       4.032031\n",
              "3 1963-10-01  5.15826    1.39346       4.118197\n",
              "4 1964-01-01  6.21584    1.48748       4.178689"
            ]
          },
          "metadata": {}
        }
      ]
    },
    {
      "cell_type": "code",
      "metadata": {
        "id": "eoxC-XRrKW0b",
        "colab": {
          "base_uri": "https://localhost:8080/",
          "height": 34
        },
        "outputId": "76002cb8-8df2-4006-cb74-57a0839300c2"
      },
      "source": [
        "# look a shape of data\n",
        "display(df.shape)"
      ],
      "execution_count": null,
      "outputs": [
        {
          "output_type": "display_data",
          "data": {
            "text/plain": [
              "(231, 4)"
            ]
          },
          "metadata": {}
        }
      ]
    },
    {
      "cell_type": "code",
      "metadata": {
        "id": "6ZA2rKCcKW0b",
        "colab": {
          "base_uri": "https://localhost:8080/",
          "height": 102
        },
        "outputId": "1d9129fc-1e6e-4091-a138-7a5eca172dc5"
      },
      "source": [
        "# look at data types. Ideally look at all rows. Only look at first five here for minimal output.\n",
        "display(df.iloc[:5,:5].dtypes)"
      ],
      "execution_count": null,
      "outputs": [
        {
          "output_type": "display_data",
          "data": {
            "text/plain": [
              "Date             datetime64[ns]\n",
              "GDP                     float64\n",
              "Inflation               float64\n",
              "Interest rate           float64\n",
              "dtype: object"
            ]
          },
          "metadata": {}
        }
      ]
    },
    {
      "cell_type": "code",
      "metadata": {
        "id": "OtNZ8j0zKW0b",
        "colab": {
          "base_uri": "https://localhost:8080/",
          "height": 102
        },
        "outputId": "108c7d5b-cd41-451c-d258-29f2eb9917c1"
      },
      "source": [
        "# see if any columns have nulls. Ideally look at all rows. Only look at first five here for minimal output.\n",
        "display(df.iloc[:5,:5].isnull().any())"
      ],
      "execution_count": null,
      "outputs": [
        {
          "output_type": "display_data",
          "data": {
            "text/plain": [
              "Date             False\n",
              "GDP              False\n",
              "Inflation        False\n",
              "Interest rate    False\n",
              "dtype: bool"
            ]
          },
          "metadata": {}
        }
      ]
    },
    {
      "cell_type": "code",
      "metadata": {
        "id": "1jTy6TruKW0c",
        "colab": {
          "base_uri": "https://localhost:8080/",
          "height": 390
        },
        "outputId": "c501e47c-3dca-4132-8c8a-35c1fe9edb2a"
      },
      "source": [
        "# display descriptive statistics\n",
        "display(df.describe(percentiles=[0.25,0.5,0.75,0.85,0.95,0.99]))"
      ],
      "execution_count": null,
      "outputs": [
        {
          "output_type": "display_data",
          "data": {
            "text/html": [
              "<div>\n",
              "<style scoped>\n",
              "    .dataframe tbody tr th:only-of-type {\n",
              "        vertical-align: middle;\n",
              "    }\n",
              "\n",
              "    .dataframe tbody tr th {\n",
              "        vertical-align: top;\n",
              "    }\n",
              "\n",
              "    .dataframe thead th {\n",
              "        text-align: right;\n",
              "    }\n",
              "</style>\n",
              "<table border=\"1\" class=\"dataframe\">\n",
              "  <thead>\n",
              "    <tr style=\"text-align: right;\">\n",
              "      <th></th>\n",
              "      <th>GDP</th>\n",
              "      <th>Inflation</th>\n",
              "      <th>Interest rate</th>\n",
              "    </tr>\n",
              "  </thead>\n",
              "  <tbody>\n",
              "    <tr>\n",
              "      <th>count</th>\n",
              "      <td>231.000000</td>\n",
              "      <td>231.000000</td>\n",
              "      <td>231.000000</td>\n",
              "    </tr>\n",
              "    <tr>\n",
              "      <th>mean</th>\n",
              "      <td>2.930650</td>\n",
              "      <td>3.819028</td>\n",
              "      <td>6.089847</td>\n",
              "    </tr>\n",
              "    <tr>\n",
              "      <th>std</th>\n",
              "      <td>2.368456</td>\n",
              "      <td>2.830920</td>\n",
              "      <td>2.948367</td>\n",
              "    </tr>\n",
              "    <tr>\n",
              "      <th>min</th>\n",
              "      <td>-9.032780</td>\n",
              "      <td>-1.606960</td>\n",
              "      <td>0.650625</td>\n",
              "    </tr>\n",
              "    <tr>\n",
              "      <th>25%</th>\n",
              "      <td>1.801315</td>\n",
              "      <td>1.939245</td>\n",
              "      <td>4.075114</td>\n",
              "    </tr>\n",
              "    <tr>\n",
              "      <th>50%</th>\n",
              "      <td>3.067140</td>\n",
              "      <td>3.074670</td>\n",
              "      <td>5.898548</td>\n",
              "    </tr>\n",
              "    <tr>\n",
              "      <th>75%</th>\n",
              "      <td>4.320485</td>\n",
              "      <td>4.625915</td>\n",
              "      <td>7.743110</td>\n",
              "    </tr>\n",
              "    <tr>\n",
              "      <th>85%</th>\n",
              "      <td>4.959095</td>\n",
              "      <td>6.026735</td>\n",
              "      <td>8.786525</td>\n",
              "    </tr>\n",
              "    <tr>\n",
              "      <th>95%</th>\n",
              "      <td>6.333295</td>\n",
              "      <td>10.650595</td>\n",
              "      <td>11.857586</td>\n",
              "    </tr>\n",
              "    <tr>\n",
              "      <th>99%</th>\n",
              "      <td>8.322529</td>\n",
              "      <td>12.847318</td>\n",
              "      <td>14.064324</td>\n",
              "    </tr>\n",
              "    <tr>\n",
              "      <th>max</th>\n",
              "      <td>8.578270</td>\n",
              "      <td>14.425770</td>\n",
              "      <td>14.838437</td>\n",
              "    </tr>\n",
              "  </tbody>\n",
              "</table>\n",
              "</div>"
            ],
            "text/plain": [
              "              GDP   Inflation  Interest rate\n",
              "count  231.000000  231.000000     231.000000\n",
              "mean     2.930650    3.819028       6.089847\n",
              "std      2.368456    2.830920       2.948367\n",
              "min     -9.032780   -1.606960       0.650625\n",
              "25%      1.801315    1.939245       4.075114\n",
              "50%      3.067140    3.074670       5.898548\n",
              "75%      4.320485    4.625915       7.743110\n",
              "85%      4.959095    6.026735       8.786525\n",
              "95%      6.333295   10.650595      11.857586\n",
              "99%      8.322529   12.847318      14.064324\n",
              "max      8.578270   14.425770      14.838437"
            ]
          },
          "metadata": {}
        }
      ]
    },
    {
      "cell_type": "markdown",
      "metadata": {
        "id": "c9Cn6SuYKW0c"
      },
      "source": [
        "## Plot my data <a name='plot'></a>\n",
        "- There does appear to be an overall increasing trend. \n",
        "- There appears to be some differences in the variance over time. \n",
        "- There may be some seasonality (i.e., cycles) in the data.\n",
        "- Not sure about outliers."
      ]
    },
    {
      "cell_type": "markdown",
      "metadata": {
        "id": "CfFXsMNrKW0c"
      },
      "source": [
        "We need to use a plotting package to plot our data. Here we are using ```matplotlib``` to illustrate this. "
      ]
    },
    {
      "cell_type": "code",
      "metadata": {
        "id": "cGZ9kBQ5KW0c"
      },
      "source": [
        "import matplotlib.pyplot as plt"
      ],
      "execution_count": null,
      "outputs": []
    },
    {
      "cell_type": "code",
      "metadata": {
        "id": "BVW7LgvNKW0c",
        "colab": {
          "base_uri": "https://localhost:8080/",
          "height": 295
        },
        "outputId": "31822f93-2b1a-491d-90f8-4cb5fe71212c"
      },
      "source": [
        "# Plot time series data\n",
        "f, ax = plt.subplots(1,1)\n",
        "ax.plot(df['Date'], df['GDP'])\n",
        "\n",
        "# Add title\n",
        "ax.set_title('Time-series graph US GDP growth rate')\n",
        "\n",
        "# Rotate x-labels\n",
        "ax.tick_params(axis = 'x', rotation = 0)\n",
        "\n",
        "# Label x-axis\n",
        "ax.set_xlabel('Date')\n",
        "\n",
        "# Label y-axis\n",
        "ax.set_ylabel('GDP growth rate')\n",
        "\n",
        "# Show graph\n",
        "plt.show()\n",
        "plt.close()"
      ],
      "execution_count": null,
      "outputs": [
        {
          "output_type": "display_data",
          "data": {
            "image/png": "[encoded data removed]",
            "text/plain": [
              "<Figure size 432x288 with 1 Axes>"
            ]
          },
          "metadata": {
            "needs_background": "light"
          }
        }
      ]
    },
    {
      "cell_type": "markdown",
      "metadata": {
        "id": "uMbu2G78KW0c"
      },
      "source": [
        "We can overlay multiple time-series datasets. Note we can also customize the linestyle in ```ax.plot()``` function. You can type ```?plt.plot``` or go to matplotlib webpage to read more. "
      ]
    },
    {
      "cell_type": "code",
      "metadata": {
        "id": "ZY2XK0J_KW0c",
        "colab": {
          "base_uri": "https://localhost:8080/",
          "height": 295
        },
        "outputId": "20ce88dd-b101-4a87-f0f1-6f39ba31c953"
      },
      "source": [
        "# Plot GDP time series data\n",
        "f, ax = plt.subplots(1,1)\n",
        "ax.plot(df['Date'], df['GDP'], lw='2', label = 'GDP')\n",
        "\n",
        "# Plot inflation time series data\n",
        "ax.plot(df['Date'], df['Inflation'], marker = '+', ls= '--', c='indianred', label='Inflation')\n",
        "\n",
        "# Add title\n",
        "ax.set_title('Time-series graph US GDP growth rate')\n",
        "\n",
        "# Rotate x-labels\n",
        "ax.tick_params(axis = 'x', rotation = 0)\n",
        "\n",
        "# Label x-axis\n",
        "ax.set_xlabel('Date')\n",
        "\n",
        "# Label y-axis\n",
        "ax.set_ylabel('Percent')\n",
        "\n",
        "# Show legend\n",
        "ax.legend()\n",
        "\n",
        "# Show graph\n",
        "plt.show()\n",
        "plt.close()"
      ],
      "execution_count": null,
      "outputs": [
        {
          "output_type": "display_data",
          "data": {
            "image/png": "[encoded data removed]",
            "text/plain": [
              "<Figure size 432x288 with 1 Axes>"
            ]
          },
          "metadata": {
            "needs_background": "light"
          }
        }
      ]
    },
    {
      "cell_type": "markdown",
      "metadata": {
        "id": "ej6YHN8WKW0c"
      },
      "source": [
        "### Exercise\n",
        "Plot interest rate time series. You can also customize the style of plot to your taste. You can also try to show individual data points as well. \n",
        "\n",
        "If you're up for a challenge, try iteratively plot GDP, inflation and interest rate altogher!"
      ]
    },
    {
      "cell_type": "code",
      "metadata": {
        "id": "KCGmEmQjKW0d"
      },
      "source": [
        ""
      ],
      "execution_count": null,
      "outputs": []
    },
    {
      "cell_type": "markdown",
      "metadata": {
        "id": "F1QYEVH0KW0d"
      },
      "source": [
        "### Histograms and Scatter plots\n",
        "- We start by generating a sample of 100 observations of ```(y,x)``` such that ```y = 10 + 1.5x + u``` and ```u ~ N(0,2)```\n",
        "- Histogram displays the sample distribution of our data\n",
        "- Scatter plot displays the relationship between two variables"
      ]
    },
    {
      "cell_type": "code",
      "metadata": {
        "id": "sQX4ja2DKW0d",
        "colab": {
          "base_uri": "https://localhost:8080/",
          "height": 265
        },
        "outputId": "5528dcfb-3f53-456b-eb4d-546866b0e066"
      },
      "source": [
        "import numpy as np\n",
        "import matplotlib.pyplot as plt\n",
        "\n",
        "# generate sample\n",
        "np.random.seed(1) # by setting the seed we will generate the same sample in every trial\n",
        "x = np.random.uniform(-3,4,100)\n",
        "u = 2*np.random.randn(100)\n",
        "y = 10 + 1.5*x + u\n",
        "\n",
        "# plot histogram\n",
        "fig = plt.hist(u, density=1, bins = 10)"
      ],
      "execution_count": null,
      "outputs": [
        {
          "output_type": "display_data",
          "data": {
            "image/png": "[encoded data removed]",
            "text/plain": [
              "<Figure size 432x288 with 1 Axes>"
            ]
          },
          "metadata": {
            "needs_background": "light"
          }
        }
      ]
    },
    {
      "cell_type": "code",
      "metadata": {
        "id": "Jw7THqatKW0d"
      },
      "source": [
        "# scatter plot\n",
        "plt.figure(figsize=(8,6))\n",
        "plt.plot(x,y,'+')\n",
        "plt.ylabel(\"y\")\n",
        "plt.xlabel(\"x\")\n",
        "plt.title('Scatter plot of y versus x')\n",
        "\n",
        "plt.savefig('reg_scatter.pdf')"
      ],
      "execution_count": null,
      "outputs": []
    },
    {
      "cell_type": "markdown",
      "metadata": {
        "id": "3hbEwSz4KW0d"
      },
      "source": [
        "## OLS Regression <a name='regression'></a>\n",
        "- Suppose that we have data on three random variables ```x```, ```y``` and ```z``` and we are interested in forecasting ```y``` based on ```x``` and ```z```\n",
        "- We want to find a linear function that best fits the data points, which can be achived by minimizing the squared errors between the data points and the fitted values by the linear function\n",
        "- This strategy is called ordinary least squares (OLS). We often say we run a regression, run OLS, or fit a regression line.\n",
        "- In the following example, we start by generating a sample of 100 observations of ```(y,x,z)``` such that ```y = 10 + 2x - 0.6z + u``` and ```u ~ N(0,2)```"
      ]
    },
    {
      "cell_type": "code",
      "metadata": {
        "id": "oL8tcV3CKW0e"
      },
      "source": [
        "np.random.seed(1)\n",
        "x = 1 + 4*np.random.randn(100)\n",
        "z = -2 + 3*np.random.randn(100)\n",
        "u = 2*np.random.randn(100)\n",
        "y = 10 + 2*x - 1.6*z + 2*u"
      ],
      "execution_count": null,
      "outputs": []
    },
    {
      "cell_type": "markdown",
      "metadata": {
        "id": "1J-dQrMkKW0e"
      },
      "source": [
        "- We need to use a statistical package to run OLS. Here we are using ```statsmodels``` to illustrate this."
      ]
    },
    {
      "cell_type": "code",
      "metadata": {
        "id": "cJOhEdocKW0e"
      },
      "source": [
        "import statsmodels.api as sm\n",
        "from statsmodels.tools.tools import add_constant"
      ],
      "execution_count": null,
      "outputs": []
    },
    {
      "cell_type": "code",
      "metadata": {
        "id": "DwE79yTLKW0e"
      },
      "source": [
        "x_reg = add_constant(np.array([x,z]).T,prepend=True)\n",
        "result=sm.OLS(y,x_reg).fit()\n",
        "result.model.data.xnames=['C','x','z']\n",
        "print(result.summary())"
      ],
      "execution_count": null,
      "outputs": []
    },
    {
      "cell_type": "markdown",
      "metadata": {
        "id": "hukMgH_4KW0e"
      },
      "source": [
        "### Exercise\n",
        "- Generating a sample of 200 observations of ```(y,x,z)``` such that ```y = 5 + 3x - 2z + u``` and ```u ~ N(0,1)```\n",
        "- Regress ```y``` on ```x```, ```z``` and a constant "
      ]
    },
    {
      "cell_type": "code",
      "metadata": {
        "id": "a0km0GLOKW0e"
      },
      "source": [
        ""
      ],
      "execution_count": null,
      "outputs": []
    }
  ]
}